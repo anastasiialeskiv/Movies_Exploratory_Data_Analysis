{
 "cells": [
  {
   "cell_type": "markdown",
   "id": "6aefa3fc",
   "metadata": {},
   "source": [
    "# Business Udnerstanding "
   ]
  },
  {
   "cell_type": "markdown",
   "id": "0d0205c2",
   "metadata": {},
   "source": []
  },
  {
   "cell_type": "markdown",
   "id": "0aaa1bd1",
   "metadata": {},
   "source": [
    "# Data Udnerstanding"
   ]
  },
  {
   "cell_type": "markdown",
   "id": "b8de14e6",
   "metadata": {},
   "source": []
  },
  {
   "cell_type": "markdown",
   "id": "4f969e56",
   "metadata": {},
   "source": [
    "# Data Preparation"
   ]
  },
  {
   "cell_type": "markdown",
   "id": "06482220",
   "metadata": {},
   "source": []
  },
  {
   "cell_type": "markdown",
   "id": "3f859b6d",
   "metadata": {},
   "source": [
    "# Exploratory Data Analysis"
   ]
  },
  {
   "cell_type": "markdown",
   "id": "75703d7a",
   "metadata": {},
   "source": []
  },
  {
   "cell_type": "markdown",
   "id": "7c3fde54",
   "metadata": {},
   "source": [
    "# Conclusions"
   ]
  },
  {
   "cell_type": "markdown",
   "id": "d821dcf1",
   "metadata": {},
   "source": []
  },
  {
   "cell_type": "markdown",
   "id": "10d9420f",
   "metadata": {},
   "source": [
    "## Limitations"
   ]
  },
  {
   "cell_type": "markdown",
   "id": "573ca8be",
   "metadata": {},
   "source": []
  },
  {
   "cell_type": "markdown",
   "id": "f9ee7deb",
   "metadata": {},
   "source": [
    "## Recommendations"
   ]
  },
  {
   "cell_type": "markdown",
   "id": "cad83e9f",
   "metadata": {},
   "source": []
  },
  {
   "cell_type": "markdown",
   "id": "9a798396",
   "metadata": {},
   "source": [
    "## Next Steps"
   ]
  },
  {
   "cell_type": "code",
   "execution_count": null,
   "id": "1d363219",
   "metadata": {},
   "outputs": [],
   "source": []
  }
 ],
 "metadata": {
  "kernelspec": {
   "display_name": "Python (learn-env)",
   "language": "python",
   "name": "learn-env"
  },
  "language_info": {
   "codemirror_mode": {
    "name": "ipython",
    "version": 3
   },
   "file_extension": ".py",
   "mimetype": "text/x-python",
   "name": "python",
   "nbconvert_exporter": "python",
   "pygments_lexer": "ipython3",
   "version": "3.9.13"
  }
 },
 "nbformat": 4,
 "nbformat_minor": 5
}
