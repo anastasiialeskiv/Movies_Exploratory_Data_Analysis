{
 "cells": [
  {
   "cell_type": "markdown",
   "id": "2af0c91c",
   "metadata": {},
   "source": [
    "# Business Understanding "
   ]
  },
  {
   "cell_type": "markdown",
   "id": "1c0a5a38",
   "metadata": {},
   "source": [
    "The goal of this project is to use data to deliver analysis to my client(Microsoft). Microsoft wants to know what types of films are currently doing the best at the box office.After I worked with data, I built a visual presentation to show 3  recommendations for creating a successful movie. I want to show what would be the best type of films to create. I want to investigate the average budget, duration,language and genres to make future predictions and recommendations for my client.\n",
    "Microsoft sees all the big companies creating original video content and they want to get in on the fun. They have decided to create a new movie studio, but they don’t know anything about creating movies. I am  charged with exploring what types of films are currently doing the best at the box office. \n"
   ]
  },
  {
   "cell_type": "markdown",
   "id": "09976fbc",
   "metadata": {},
   "source": [
    "# Data Understanding"
   ]
  },
  {
   "cell_type": "markdown",
   "id": "f6e32617",
   "metadata": {},
   "source": [
    "Dataset contains thousands of data points. The data files provide information about movies their rating, domestic gross and foreign gross. I checked which are the Top 3 most profitable movies? Average runtime,budget,domestic gross and worldwide gross of movies? Movies which are rated above 8 by the critics? Which year did we have the most profitable movies? What are the top  genres?"
   ]
  },
  {
   "cell_type": "markdown",
   "id": "d4109a08",
   "metadata": {},
   "source": [
    "# Data Preparation¶"
   ]
  },
  {
   "cell_type": "markdown",
   "id": "b939647f",
   "metadata": {},
   "source": [
    "CSV for reading CSV file\n",
    "\n",
    "Pandas and Numpy for data manipulation \n",
    "\n",
    "Matplotlib and Seaborn for visualization \n",
    "\n",
    "SQLite for data ingestion and extraction\n",
    "\n",
    "Seaborn for visualization"
   ]
  },
  {
   "cell_type": "markdown",
   "id": "354e3655",
   "metadata": {},
   "source": [
    "# Exploratory Data Analysis¶"
   ]
  },
  {
   "cell_type": "markdown",
   "id": "9ba17001",
   "metadata": {},
   "source": [
    "To answer the questions I posed at the beginning of this project, I performed exploratory analyses on the basis of genre,language,duration of the movie, and budget.For each of these themes I made a visualization for better vision and better understanding. "
   ]
  },
  {
   "cell_type": "markdown",
   "id": "47a98759",
   "metadata": {},
   "source": [
    "At the very beginning I am importing the packages I will be using for this project to read, manipulate, clean my data and to make future visualizations. "
   ]
  },
  {
   "cell_type": "code",
   "execution_count": 1,
   "id": "6c4d027e",
   "metadata": {},
   "outputs": [],
   "source": [
    "#importing all necessary databases \n",
    "import pandas as pd\n",
    "import ast, json\n",
    "import csv\n",
    "import sqlite3\n",
    "import matplotlib.pyplot as plt\n",
    "%matplotlib inline\n",
    "import numpy as np\n",
    "import seaborn as sns\n",
    "conn = sqlite3.connect('im.db.zip')\n",
    "sns.set_context(\"poster\")\n",
    "sns.set_style(\"darkgrid\")\n",
    "\n",
    "pd.options.mode.chained_assignment = None "
   ]
  },
  {
   "cell_type": "code",
   "execution_count": 2,
   "id": "0e409d19",
   "metadata": {},
   "outputs": [],
   "source": [
    "#Reading CSV files\n",
    "bom_gross_df = pd.read_csv('data/bom.movie_gross.csv.gz')\n",
    "movies = pd.read_csv('data/tmdb.movies.csv.gz')\n",
    "budgets = pd.read_csv('data/tn.movie_budgets.csv.gz')\n",
    "info = pd.read_csv('data/rt.movie_info.tsv', sep='\\t')"
   ]
  },
  {
   "cell_type": "markdown",
   "id": "42be2567",
   "metadata": {},
   "source": [
    "After I read the data I wanted to clean it and  drop all null values which means the data value in the column is unknown or missing. "
   ]
  },
  {
   "cell_type": "code",
   "execution_count": 3,
   "id": "b5227810",
   "metadata": {},
   "outputs": [],
   "source": [
    "# Drop all null values in runtime column\n",
    "info.dropna(subset = 'runtime', inplace = True)\n",
    "# Reset index to be sequential \n",
    "info.reset_index(inplace=True)"
   ]
  },
  {
   "cell_type": "markdown",
   "id": "7795bc2d",
   "metadata": {},
   "source": [
    "I took the \"info\" dataframe in, and alters the value to remove \" minutes\" and convert to an int to be able to calculate average runtime for the future movie"
   ]
  },
  {
   "cell_type": "code",
   "execution_count": 4,
   "id": "f2ae08f0",
   "metadata": {},
   "outputs": [],
   "source": [
    "def whitespace_remover(df):\n",
    "\n",
    "    df = df.copy()\n",
    "    for i in range(len(df['runtime'])):\n",
    "        df['runtime'][i] = int(df['runtime'][i].replace(' minutes',''))\n",
    "    return df"
   ]
  },
  {
   "cell_type": "markdown",
   "id": "f6ec61e9",
   "metadata": {},
   "source": [
    "I wanted to remove white spaces to be able calculate average runtime for the future movie "
   ]
  },
  {
   "cell_type": "code",
   "execution_count": 6,
   "id": "337912ef",
   "metadata": {},
   "outputs": [],
   "source": [
    "#Removing white spaces\n",
    "info_df = whitespace_remover(info)"
   ]
  },
  {
   "cell_type": "code",
   "execution_count": 7,
   "id": "563461ba",
   "metadata": {
    "scrolled": true
   },
   "outputs": [
    {
     "data": {
      "text/html": [
       "<div>\n",
       "<style scoped>\n",
       "    .dataframe tbody tr th:only-of-type {\n",
       "        vertical-align: middle;\n",
       "    }\n",
       "\n",
       "    .dataframe tbody tr th {\n",
       "        vertical-align: top;\n",
       "    }\n",
       "\n",
       "    .dataframe thead th {\n",
       "        text-align: right;\n",
       "    }\n",
       "</style>\n",
       "<table border=\"1\" class=\"dataframe\">\n",
       "  <thead>\n",
       "    <tr style=\"text-align: right;\">\n",
       "      <th></th>\n",
       "      <th>index</th>\n",
       "      <th>id</th>\n",
       "      <th>synopsis</th>\n",
       "      <th>rating</th>\n",
       "      <th>genre</th>\n",
       "      <th>director</th>\n",
       "      <th>writer</th>\n",
       "      <th>theater_date</th>\n",
       "      <th>dvd_date</th>\n",
       "      <th>currency</th>\n",
       "      <th>box_office</th>\n",
       "      <th>runtime</th>\n",
       "      <th>studio</th>\n",
       "    </tr>\n",
       "  </thead>\n",
       "  <tbody>\n",
       "    <tr>\n",
       "      <th>0</th>\n",
       "      <td>0</td>\n",
       "      <td>1</td>\n",
       "      <td>This gritty, fast-paced, and innovative police...</td>\n",
       "      <td>R</td>\n",
       "      <td>Action and Adventure|Classics|Drama</td>\n",
       "      <td>William Friedkin</td>\n",
       "      <td>Ernest Tidyman</td>\n",
       "      <td>Oct 9, 1971</td>\n",
       "      <td>Sep 25, 2001</td>\n",
       "      <td>NaN</td>\n",
       "      <td>NaN</td>\n",
       "      <td>104</td>\n",
       "      <td>NaN</td>\n",
       "    </tr>\n",
       "    <tr>\n",
       "      <th>1</th>\n",
       "      <td>1</td>\n",
       "      <td>3</td>\n",
       "      <td>New York City, not-too-distant-future: Eric Pa...</td>\n",
       "      <td>R</td>\n",
       "      <td>Drama|Science Fiction and Fantasy</td>\n",
       "      <td>David Cronenberg</td>\n",
       "      <td>David Cronenberg|Don DeLillo</td>\n",
       "      <td>Aug 17, 2012</td>\n",
       "      <td>Jan 1, 2013</td>\n",
       "      <td>$</td>\n",
       "      <td>600,000</td>\n",
       "      <td>108</td>\n",
       "      <td>Entertainment One</td>\n",
       "    </tr>\n",
       "    <tr>\n",
       "      <th>2</th>\n",
       "      <td>2</td>\n",
       "      <td>5</td>\n",
       "      <td>Illeana Douglas delivers a superb performance ...</td>\n",
       "      <td>R</td>\n",
       "      <td>Drama|Musical and Performing Arts</td>\n",
       "      <td>Allison Anders</td>\n",
       "      <td>Allison Anders</td>\n",
       "      <td>Sep 13, 1996</td>\n",
       "      <td>Apr 18, 2000</td>\n",
       "      <td>NaN</td>\n",
       "      <td>NaN</td>\n",
       "      <td>116</td>\n",
       "      <td>NaN</td>\n",
       "    </tr>\n",
       "    <tr>\n",
       "      <th>3</th>\n",
       "      <td>3</td>\n",
       "      <td>6</td>\n",
       "      <td>Michael Douglas runs afoul of a treacherous su...</td>\n",
       "      <td>R</td>\n",
       "      <td>Drama|Mystery and Suspense</td>\n",
       "      <td>Barry Levinson</td>\n",
       "      <td>Paul Attanasio|Michael Crichton</td>\n",
       "      <td>Dec 9, 1994</td>\n",
       "      <td>Aug 27, 1997</td>\n",
       "      <td>NaN</td>\n",
       "      <td>NaN</td>\n",
       "      <td>128</td>\n",
       "      <td>NaN</td>\n",
       "    </tr>\n",
       "    <tr>\n",
       "      <th>4</th>\n",
       "      <td>4</td>\n",
       "      <td>7</td>\n",
       "      <td>NaN</td>\n",
       "      <td>NR</td>\n",
       "      <td>Drama|Romance</td>\n",
       "      <td>Rodney Bennett</td>\n",
       "      <td>Giles Cooper</td>\n",
       "      <td>NaN</td>\n",
       "      <td>NaN</td>\n",
       "      <td>NaN</td>\n",
       "      <td>NaN</td>\n",
       "      <td>200</td>\n",
       "      <td>NaN</td>\n",
       "    </tr>\n",
       "    <tr>\n",
       "      <th>...</th>\n",
       "      <td>...</td>\n",
       "      <td>...</td>\n",
       "      <td>...</td>\n",
       "      <td>...</td>\n",
       "      <td>...</td>\n",
       "      <td>...</td>\n",
       "      <td>...</td>\n",
       "      <td>...</td>\n",
       "      <td>...</td>\n",
       "      <td>...</td>\n",
       "      <td>...</td>\n",
       "      <td>...</td>\n",
       "      <td>...</td>\n",
       "    </tr>\n",
       "    <tr>\n",
       "      <th>1525</th>\n",
       "      <td>1555</td>\n",
       "      <td>1996</td>\n",
       "      <td>Forget terrorists or hijackers -- there's a ha...</td>\n",
       "      <td>R</td>\n",
       "      <td>Action and Adventure|Horror|Mystery and Suspense</td>\n",
       "      <td>NaN</td>\n",
       "      <td>NaN</td>\n",
       "      <td>Aug 18, 2006</td>\n",
       "      <td>Jan 2, 2007</td>\n",
       "      <td>$</td>\n",
       "      <td>33,886,034</td>\n",
       "      <td>106</td>\n",
       "      <td>New Line Cinema</td>\n",
       "    </tr>\n",
       "    <tr>\n",
       "      <th>1526</th>\n",
       "      <td>1556</td>\n",
       "      <td>1997</td>\n",
       "      <td>The popular Saturday Night Live sketch was exp...</td>\n",
       "      <td>PG</td>\n",
       "      <td>Comedy|Science Fiction and Fantasy</td>\n",
       "      <td>Steve Barron</td>\n",
       "      <td>Terry Turner|Tom Davis|Dan Aykroyd|Bonnie Turner</td>\n",
       "      <td>Jul 23, 1993</td>\n",
       "      <td>Apr 17, 2001</td>\n",
       "      <td>NaN</td>\n",
       "      <td>NaN</td>\n",
       "      <td>88</td>\n",
       "      <td>Paramount Vantage</td>\n",
       "    </tr>\n",
       "    <tr>\n",
       "      <th>1527</th>\n",
       "      <td>1557</td>\n",
       "      <td>1998</td>\n",
       "      <td>Based on a novel by Richard Powell, when the l...</td>\n",
       "      <td>G</td>\n",
       "      <td>Classics|Comedy|Drama|Musical and Performing Arts</td>\n",
       "      <td>Gordon Douglas</td>\n",
       "      <td>NaN</td>\n",
       "      <td>Jan 1, 1962</td>\n",
       "      <td>May 11, 2004</td>\n",
       "      <td>NaN</td>\n",
       "      <td>NaN</td>\n",
       "      <td>111</td>\n",
       "      <td>NaN</td>\n",
       "    </tr>\n",
       "    <tr>\n",
       "      <th>1528</th>\n",
       "      <td>1558</td>\n",
       "      <td>1999</td>\n",
       "      <td>The Sandlot is a coming-of-age story about a g...</td>\n",
       "      <td>PG</td>\n",
       "      <td>Comedy|Drama|Kids and Family|Sports and Fitness</td>\n",
       "      <td>David Mickey Evans</td>\n",
       "      <td>David Mickey Evans|Robert Gunter</td>\n",
       "      <td>Apr 1, 1993</td>\n",
       "      <td>Jan 29, 2002</td>\n",
       "      <td>NaN</td>\n",
       "      <td>NaN</td>\n",
       "      <td>101</td>\n",
       "      <td>NaN</td>\n",
       "    </tr>\n",
       "    <tr>\n",
       "      <th>1529</th>\n",
       "      <td>1559</td>\n",
       "      <td>2000</td>\n",
       "      <td>Suspended from the force, Paris cop Hubert is ...</td>\n",
       "      <td>R</td>\n",
       "      <td>Action and Adventure|Art House and Internation...</td>\n",
       "      <td>NaN</td>\n",
       "      <td>Luc Besson</td>\n",
       "      <td>Sep 27, 2001</td>\n",
       "      <td>Feb 11, 2003</td>\n",
       "      <td>NaN</td>\n",
       "      <td>NaN</td>\n",
       "      <td>94</td>\n",
       "      <td>Columbia Pictures</td>\n",
       "    </tr>\n",
       "  </tbody>\n",
       "</table>\n",
       "<p>1530 rows × 13 columns</p>\n",
       "</div>"
      ],
      "text/plain": [
       "      index    id                                           synopsis rating  \\\n",
       "0         0     1  This gritty, fast-paced, and innovative police...      R   \n",
       "1         1     3  New York City, not-too-distant-future: Eric Pa...      R   \n",
       "2         2     5  Illeana Douglas delivers a superb performance ...      R   \n",
       "3         3     6  Michael Douglas runs afoul of a treacherous su...      R   \n",
       "4         4     7                                                NaN     NR   \n",
       "...     ...   ...                                                ...    ...   \n",
       "1525   1555  1996  Forget terrorists or hijackers -- there's a ha...      R   \n",
       "1526   1556  1997  The popular Saturday Night Live sketch was exp...     PG   \n",
       "1527   1557  1998  Based on a novel by Richard Powell, when the l...      G   \n",
       "1528   1558  1999  The Sandlot is a coming-of-age story about a g...     PG   \n",
       "1529   1559  2000  Suspended from the force, Paris cop Hubert is ...      R   \n",
       "\n",
       "                                                  genre            director  \\\n",
       "0                   Action and Adventure|Classics|Drama    William Friedkin   \n",
       "1                     Drama|Science Fiction and Fantasy    David Cronenberg   \n",
       "2                     Drama|Musical and Performing Arts      Allison Anders   \n",
       "3                            Drama|Mystery and Suspense      Barry Levinson   \n",
       "4                                         Drama|Romance      Rodney Bennett   \n",
       "...                                                 ...                 ...   \n",
       "1525   Action and Adventure|Horror|Mystery and Suspense                 NaN   \n",
       "1526                 Comedy|Science Fiction and Fantasy        Steve Barron   \n",
       "1527  Classics|Comedy|Drama|Musical and Performing Arts      Gordon Douglas   \n",
       "1528    Comedy|Drama|Kids and Family|Sports and Fitness  David Mickey Evans   \n",
       "1529  Action and Adventure|Art House and Internation...                 NaN   \n",
       "\n",
       "                                                writer  theater_date  \\\n",
       "0                                       Ernest Tidyman   Oct 9, 1971   \n",
       "1                         David Cronenberg|Don DeLillo  Aug 17, 2012   \n",
       "2                                       Allison Anders  Sep 13, 1996   \n",
       "3                      Paul Attanasio|Michael Crichton   Dec 9, 1994   \n",
       "4                                         Giles Cooper           NaN   \n",
       "...                                                ...           ...   \n",
       "1525                                               NaN  Aug 18, 2006   \n",
       "1526  Terry Turner|Tom Davis|Dan Aykroyd|Bonnie Turner  Jul 23, 1993   \n",
       "1527                                               NaN   Jan 1, 1962   \n",
       "1528                  David Mickey Evans|Robert Gunter   Apr 1, 1993   \n",
       "1529                                        Luc Besson  Sep 27, 2001   \n",
       "\n",
       "          dvd_date currency  box_office runtime             studio  \n",
       "0     Sep 25, 2001      NaN         NaN     104                NaN  \n",
       "1      Jan 1, 2013        $     600,000     108  Entertainment One  \n",
       "2     Apr 18, 2000      NaN         NaN     116                NaN  \n",
       "3     Aug 27, 1997      NaN         NaN     128                NaN  \n",
       "4              NaN      NaN         NaN     200                NaN  \n",
       "...            ...      ...         ...     ...                ...  \n",
       "1525   Jan 2, 2007        $  33,886,034     106    New Line Cinema  \n",
       "1526  Apr 17, 2001      NaN         NaN      88  Paramount Vantage  \n",
       "1527  May 11, 2004      NaN         NaN     111                NaN  \n",
       "1528  Jan 29, 2002      NaN         NaN     101                NaN  \n",
       "1529  Feb 11, 2003      NaN         NaN      94  Columbia Pictures  \n",
       "\n",
       "[1530 rows x 13 columns]"
      ]
     },
     "execution_count": 7,
     "metadata": {},
     "output_type": "execute_result"
    }
   ],
   "source": [
    "info_df"
   ]
  },
  {
   "cell_type": "markdown",
   "id": "3a1a317a",
   "metadata": {},
   "source": [
    "Then I was ready to calculate what would be the best runtime for the future movie. To do this I had to see what is the average runtime of all movies in a given dataset. "
   ]
  },
  {
   "cell_type": "code",
   "execution_count": 8,
   "id": "50a46489",
   "metadata": {},
   "outputs": [
    {
     "data": {
      "text/plain": [
       "103.96797385620916"
      ]
     },
     "execution_count": 8,
     "metadata": {},
     "output_type": "execute_result"
    }
   ],
   "source": [
    "#finding what is the average time for the movie\n",
    "info_df['runtime'].mean()"
   ]
  },
  {
   "cell_type": "markdown",
   "id": "8177c37a",
   "metadata": {},
   "source": [
    "I found out what is the average runtime in this dataset. I got an idea what should be the runtime for the move. Based on this information I can recommend to my client what would be good runtime for the future movie."
   ]
  },
  {
   "cell_type": "code",
   "execution_count": 9,
   "id": "ae99ce84",
   "metadata": {},
   "outputs": [],
   "source": [
    "#solved UFuncTypeError by converting \"runtime\" column from int to float \n",
    "info_df['runtime'] = info_df['runtime'].astype(float)"
   ]
  },
  {
   "cell_type": "markdown",
   "id": "790d8c25",
   "metadata": {},
   "source": [
    "`sns.lmplot` was giving an error referring to the 'runtime' comumns DataType. to slove this problam I searched the following: \n",
    "\n",
    "`\"sns.lmplot\" UFuncTypeError: Cannot cast ufunc 'svd_n_s' input from dtype('O') to dtype('float64') with casting rule 'same_kind'` \n",
    "\n",
    "This lead me to this search results found [here](https://stackoverflow.com/questions/75546110/error-on-seaborn-lmplot-when-passing-dataframe-data-due-to-dtypeo-error-exc). "
   ]
  },
  {
   "cell_type": "code",
   "execution_count": 10,
   "id": "fc7a2b9c",
   "metadata": {},
   "outputs": [
    {
     "data": {
      "image/png": "[encoded data removed]",
      "text/plain": [
       "<Figure size 1000x600 with 1 Axes>"
      ]
     },
     "metadata": {},
     "output_type": "display_data"
    },
    {
     "data": {
      "text/plain": [
       "<Figure size 640x480 with 0 Axes>"
      ]
     },
     "metadata": {},
     "output_type": "display_data"
    }
   ],
   "source": [
    "# plotting runtime of movies \n",
    "plt.figure(figsize=(10,6), dpi = 100)\n",
    "plt.xlabel('Runtime', fontsize = 20)\n",
    "plt.ylabel('Number of Movies', fontsize=20)\n",
    "plt.title('Movie Runtime',fontsize=20)\n",
    "plt.hist(info_df['runtime'], rwidth = 0.9, bins = 65)\n",
    "plt.show()\n",
    "plt.savefig('images/movie_runtime.jpg')"
   ]
  },
  {
   "cell_type": "markdown",
   "id": "37b50cb9",
   "metadata": {},
   "source": [
    "### The above plot helped me to see that most movies in this dataset have a runtime around 90 min.Recommendation for my client based on this information to make a successful movie the runtime should be around 90-103 min."
   ]
  },
  {
   "cell_type": "code",
   "execution_count": 11,
   "id": "2e868909",
   "metadata": {
    "scrolled": true
   },
   "outputs": [
    {
     "data": {
      "image/png": "[encoded data removed]",
      "text/plain": [
       "<Figure size 2000x500 with 1 Axes>"
      ]
     },
     "metadata": {},
     "output_type": "display_data"
    }
   ],
   "source": [
    "#Trying differen style to see which style looks better \n",
    "sns.lmplot( x='runtime',y='index' , data=info_df, aspect=4, line_kws={'color': 'crimson'})\n",
    "plt.title('Movie Runtime', fontsize=20)\n",
    "plt.xlabel('Runtime(mins)', fontsize=18)\n",
    "plt.ylabel('Number of Movies', fontsize=18)\n",
    "plt.xticks(fontsize=16)\n",
    "plt.yticks(fontsize=16)\n",
    "plt.ylim(0,None)\n",
    "plt.xlim(0, None);\n"
   ]
  },
  {
   "cell_type": "markdown",
   "id": "fe3108ce",
   "metadata": {},
   "source": [
    "This plot is not good for showing runtime. I could't really clearly see what is the most useful runtime so, I would definitely use fist plot because there I can clearly see the information I want to present to my client. "
   ]
  },
  {
   "cell_type": "markdown",
   "id": "9554e585",
   "metadata": {},
   "source": [
    "I wanted to start working with another dataset to find out what would be the best recommendation on genre, budget, language ets. I started with cleaning data. There were a few columns in this dataset that were not relevant to my analysis:'studio','year','Unnamed: 0','id','title_y','original_title','vote_count' I began droping them."
   ]
  },
  {
   "cell_type": "code",
   "execution_count": 12,
   "id": "ff507bf5",
   "metadata": {},
   "outputs": [],
   "source": [
    "#murging data\n",
    "bom_movies = pd.merge(bom_gross_df,movies, left_on='title', right_on='original_title', how='left',suffixes=('','_y'))"
   ]
  },
  {
   "cell_type": "code",
   "execution_count": 13,
   "id": "a1586a28",
   "metadata": {
    "scrolled": true
   },
   "outputs": [
    {
     "data": {
      "text/html": [
       "<div>\n",
       "<style scoped>\n",
       "    .dataframe tbody tr th:only-of-type {\n",
       "        vertical-align: middle;\n",
       "    }\n",
       "\n",
       "    .dataframe tbody tr th {\n",
       "        vertical-align: top;\n",
       "    }\n",
       "\n",
       "    .dataframe thead th {\n",
       "        text-align: right;\n",
       "    }\n",
       "</style>\n",
       "<table border=\"1\" class=\"dataframe\">\n",
       "  <thead>\n",
       "    <tr style=\"text-align: right;\">\n",
       "      <th></th>\n",
       "      <th>title</th>\n",
       "      <th>domestic_gross</th>\n",
       "      <th>foreign_gross</th>\n",
       "      <th>genre_ids</th>\n",
       "      <th>original_language</th>\n",
       "      <th>popularity</th>\n",
       "      <th>release_date</th>\n",
       "      <th>vote_average</th>\n",
       "    </tr>\n",
       "  </thead>\n",
       "  <tbody>\n",
       "    <tr>\n",
       "      <th>0</th>\n",
       "      <td>Toy Story 3</td>\n",
       "      <td>415000000.0</td>\n",
       "      <td>652000000</td>\n",
       "      <td>[16, 10751, 35]</td>\n",
       "      <td>en</td>\n",
       "      <td>24.445</td>\n",
       "      <td>2010-06-17</td>\n",
       "      <td>7.7</td>\n",
       "    </tr>\n",
       "    <tr>\n",
       "      <th>1</th>\n",
       "      <td>Alice in Wonderland (2010)</td>\n",
       "      <td>334200000.0</td>\n",
       "      <td>691300000</td>\n",
       "      <td>NaN</td>\n",
       "      <td>NaN</td>\n",
       "      <td>NaN</td>\n",
       "      <td>NaN</td>\n",
       "      <td>NaN</td>\n",
       "    </tr>\n",
       "    <tr>\n",
       "      <th>2</th>\n",
       "      <td>Harry Potter and the Deathly Hallows Part 1</td>\n",
       "      <td>296000000.0</td>\n",
       "      <td>664300000</td>\n",
       "      <td>NaN</td>\n",
       "      <td>NaN</td>\n",
       "      <td>NaN</td>\n",
       "      <td>NaN</td>\n",
       "      <td>NaN</td>\n",
       "    </tr>\n",
       "    <tr>\n",
       "      <th>3</th>\n",
       "      <td>Inception</td>\n",
       "      <td>292600000.0</td>\n",
       "      <td>535700000</td>\n",
       "      <td>[28, 878, 12]</td>\n",
       "      <td>en</td>\n",
       "      <td>27.920</td>\n",
       "      <td>2010-07-16</td>\n",
       "      <td>8.3</td>\n",
       "    </tr>\n",
       "    <tr>\n",
       "      <th>4</th>\n",
       "      <td>Shrek Forever After</td>\n",
       "      <td>238700000.0</td>\n",
       "      <td>513900000</td>\n",
       "      <td>[35, 12, 14, 16, 10751]</td>\n",
       "      <td>en</td>\n",
       "      <td>15.041</td>\n",
       "      <td>2010-05-16</td>\n",
       "      <td>6.1</td>\n",
       "    </tr>\n",
       "    <tr>\n",
       "      <th>...</th>\n",
       "      <td>...</td>\n",
       "      <td>...</td>\n",
       "      <td>...</td>\n",
       "      <td>...</td>\n",
       "      <td>...</td>\n",
       "      <td>...</td>\n",
       "      <td>...</td>\n",
       "      <td>...</td>\n",
       "    </tr>\n",
       "    <tr>\n",
       "      <th>3718</th>\n",
       "      <td>The Quake</td>\n",
       "      <td>6200.0</td>\n",
       "      <td>NaN</td>\n",
       "      <td>NaN</td>\n",
       "      <td>NaN</td>\n",
       "      <td>NaN</td>\n",
       "      <td>NaN</td>\n",
       "      <td>NaN</td>\n",
       "    </tr>\n",
       "    <tr>\n",
       "      <th>3719</th>\n",
       "      <td>Edward II (2018 re-release)</td>\n",
       "      <td>4800.0</td>\n",
       "      <td>NaN</td>\n",
       "      <td>NaN</td>\n",
       "      <td>NaN</td>\n",
       "      <td>NaN</td>\n",
       "      <td>NaN</td>\n",
       "      <td>NaN</td>\n",
       "    </tr>\n",
       "    <tr>\n",
       "      <th>3720</th>\n",
       "      <td>El Pacto</td>\n",
       "      <td>2500.0</td>\n",
       "      <td>NaN</td>\n",
       "      <td>NaN</td>\n",
       "      <td>NaN</td>\n",
       "      <td>NaN</td>\n",
       "      <td>NaN</td>\n",
       "      <td>NaN</td>\n",
       "    </tr>\n",
       "    <tr>\n",
       "      <th>3721</th>\n",
       "      <td>The Swan</td>\n",
       "      <td>2400.0</td>\n",
       "      <td>NaN</td>\n",
       "      <td>NaN</td>\n",
       "      <td>NaN</td>\n",
       "      <td>NaN</td>\n",
       "      <td>NaN</td>\n",
       "      <td>NaN</td>\n",
       "    </tr>\n",
       "    <tr>\n",
       "      <th>3722</th>\n",
       "      <td>An Actor Prepares</td>\n",
       "      <td>1700.0</td>\n",
       "      <td>NaN</td>\n",
       "      <td>[35, 18]</td>\n",
       "      <td>en</td>\n",
       "      <td>7.244</td>\n",
       "      <td>2018-08-31</td>\n",
       "      <td>6.5</td>\n",
       "    </tr>\n",
       "  </tbody>\n",
       "</table>\n",
       "<p>3723 rows × 8 columns</p>\n",
       "</div>"
      ],
      "text/plain": [
       "                                            title  domestic_gross  \\\n",
       "0                                     Toy Story 3     415000000.0   \n",
       "1                      Alice in Wonderland (2010)     334200000.0   \n",
       "2     Harry Potter and the Deathly Hallows Part 1     296000000.0   \n",
       "3                                       Inception     292600000.0   \n",
       "4                             Shrek Forever After     238700000.0   \n",
       "...                                           ...             ...   \n",
       "3718                                    The Quake          6200.0   \n",
       "3719                  Edward II (2018 re-release)          4800.0   \n",
       "3720                                     El Pacto          2500.0   \n",
       "3721                                     The Swan          2400.0   \n",
       "3722                            An Actor Prepares          1700.0   \n",
       "\n",
       "     foreign_gross                genre_ids original_language  popularity  \\\n",
       "0        652000000          [16, 10751, 35]                en      24.445   \n",
       "1        691300000                      NaN               NaN         NaN   \n",
       "2        664300000                      NaN               NaN         NaN   \n",
       "3        535700000            [28, 878, 12]                en      27.920   \n",
       "4        513900000  [35, 12, 14, 16, 10751]                en      15.041   \n",
       "...            ...                      ...               ...         ...   \n",
       "3718           NaN                      NaN               NaN         NaN   \n",
       "3719           NaN                      NaN               NaN         NaN   \n",
       "3720           NaN                      NaN               NaN         NaN   \n",
       "3721           NaN                      NaN               NaN         NaN   \n",
       "3722           NaN                 [35, 18]                en       7.244   \n",
       "\n",
       "     release_date  vote_average  \n",
       "0      2010-06-17           7.7  \n",
       "1             NaN           NaN  \n",
       "2             NaN           NaN  \n",
       "3      2010-07-16           8.3  \n",
       "4      2010-05-16           6.1  \n",
       "...           ...           ...  \n",
       "3718          NaN           NaN  \n",
       "3719          NaN           NaN  \n",
       "3720          NaN           NaN  \n",
       "3721          NaN           NaN  \n",
       "3722   2018-08-31           6.5  \n",
       "\n",
       "[3723 rows x 8 columns]"
      ]
     },
     "execution_count": 13,
     "metadata": {},
     "output_type": "execute_result"
    }
   ],
   "source": [
    "#Droping unnecessary columns\n",
    "bom_movies.drop([ 'studio','year',\n",
    "       'Unnamed: 0','id','title_y','original_title','vote_count'  ], axis=1, inplace=True)\n",
    "bom_movies"
   ]
  },
  {
   "cell_type": "markdown",
   "id": "1da5d7d5",
   "metadata": {},
   "source": [
    "Then I dropped duplicates."
   ]
  },
  {
   "cell_type": "code",
   "execution_count": 14,
   "id": "8d29376f",
   "metadata": {},
   "outputs": [
    {
     "name": "stdout",
     "output_type": "stream",
     "text": [
      "(3723, 8)\n",
      "(3502, 8)\n"
     ]
    }
   ],
   "source": [
    "print(bom_movies.shape)\n",
    "bom_movies = bom_movies.drop_duplicates(keep='first')\n",
    "print(bom_movies.shape)"
   ]
  },
  {
   "cell_type": "markdown",
   "id": "89f9057a",
   "metadata": {},
   "source": [
    "I then replaced all the zeros with NaN to be able to dropping it. Then dropped it to have a clean data."
   ]
  },
  {
   "cell_type": "code",
   "execution_count": 16,
   "id": "6dd946f4",
   "metadata": {},
   "outputs": [
    {
     "data": {
      "text/plain": [
       "(1404, 8)"
      ]
     },
     "execution_count": 16,
     "metadata": {},
     "output_type": "execute_result"
    }
   ],
   "source": [
    "# replacing all the zeros and replacing it with NaN.\n",
    "cols = ['domestic_gross', 'foreign_gross','popularity', 'vote_average']\n",
    "bom_movies[cols] = bom_movies[cols].replace(0, np.nan)\n",
    "\n",
    "# dropping all the rows with NaN in the columns mentioned above in the list.\n",
    "bom_movies.dropna(subset=cols, inplace=True)\n",
    "bom_movies.shape"
   ]
  },
  {
   "cell_type": "markdown",
   "id": "fd006d45",
   "metadata": {},
   "source": [
    "I wanted to see what was the most profitable year. For that I wanted to take only a year from every date and plot the graph to have a better vision."
   ]
  },
  {
   "cell_type": "code",
   "execution_count": 17,
   "id": "c3018340",
   "metadata": {},
   "outputs": [
    {
     "data": {
      "text/html": [
       "<div>\n",
       "<style scoped>\n",
       "    .dataframe tbody tr th:only-of-type {\n",
       "        vertical-align: middle;\n",
       "    }\n",
       "\n",
       "    .dataframe tbody tr th {\n",
       "        vertical-align: top;\n",
       "    }\n",
       "\n",
       "    .dataframe thead th {\n",
       "        text-align: right;\n",
       "    }\n",
       "</style>\n",
       "<table border=\"1\" class=\"dataframe\">\n",
       "  <thead>\n",
       "    <tr style=\"text-align: right;\">\n",
       "      <th></th>\n",
       "      <th>title</th>\n",
       "      <th>domestic_gross</th>\n",
       "      <th>foreign_gross</th>\n",
       "      <th>genre_ids</th>\n",
       "      <th>original_language</th>\n",
       "      <th>popularity</th>\n",
       "      <th>release_date</th>\n",
       "      <th>vote_average</th>\n",
       "    </tr>\n",
       "  </thead>\n",
       "  <tbody>\n",
       "    <tr>\n",
       "      <th>0</th>\n",
       "      <td>Toy Story 3</td>\n",
       "      <td>415000000.0</td>\n",
       "      <td>652000000</td>\n",
       "      <td>[16, 10751, 35]</td>\n",
       "      <td>en</td>\n",
       "      <td>24.445</td>\n",
       "      <td>2010-06-17</td>\n",
       "      <td>7.7</td>\n",
       "    </tr>\n",
       "    <tr>\n",
       "      <th>3</th>\n",
       "      <td>Inception</td>\n",
       "      <td>292600000.0</td>\n",
       "      <td>535700000</td>\n",
       "      <td>[28, 878, 12]</td>\n",
       "      <td>en</td>\n",
       "      <td>27.920</td>\n",
       "      <td>2010-07-16</td>\n",
       "      <td>8.3</td>\n",
       "    </tr>\n",
       "    <tr>\n",
       "      <th>4</th>\n",
       "      <td>Shrek Forever After</td>\n",
       "      <td>238700000.0</td>\n",
       "      <td>513900000</td>\n",
       "      <td>[35, 12, 14, 16, 10751]</td>\n",
       "      <td>en</td>\n",
       "      <td>15.041</td>\n",
       "      <td>2010-05-16</td>\n",
       "      <td>6.1</td>\n",
       "    </tr>\n",
       "    <tr>\n",
       "      <th>5</th>\n",
       "      <td>The Twilight Saga: Eclipse</td>\n",
       "      <td>300500000.0</td>\n",
       "      <td>398000000</td>\n",
       "      <td>[12, 14, 18, 10749]</td>\n",
       "      <td>en</td>\n",
       "      <td>20.340</td>\n",
       "      <td>2010-06-23</td>\n",
       "      <td>6.0</td>\n",
       "    </tr>\n",
       "    <tr>\n",
       "      <th>6</th>\n",
       "      <td>Iron Man 2</td>\n",
       "      <td>312400000.0</td>\n",
       "      <td>311500000</td>\n",
       "      <td>[12, 28, 878]</td>\n",
       "      <td>en</td>\n",
       "      <td>28.515</td>\n",
       "      <td>2010-05-07</td>\n",
       "      <td>6.8</td>\n",
       "    </tr>\n",
       "  </tbody>\n",
       "</table>\n",
       "</div>"
      ],
      "text/plain": [
       "                        title  domestic_gross foreign_gross  \\\n",
       "0                 Toy Story 3     415000000.0     652000000   \n",
       "3                   Inception     292600000.0     535700000   \n",
       "4         Shrek Forever After     238700000.0     513900000   \n",
       "5  The Twilight Saga: Eclipse     300500000.0     398000000   \n",
       "6                  Iron Man 2     312400000.0     311500000   \n",
       "\n",
       "                 genre_ids original_language  popularity release_date  \\\n",
       "0          [16, 10751, 35]                en      24.445   2010-06-17   \n",
       "3            [28, 878, 12]                en      27.920   2010-07-16   \n",
       "4  [35, 12, 14, 16, 10751]                en      15.041   2010-05-16   \n",
       "5      [12, 14, 18, 10749]                en      20.340   2010-06-23   \n",
       "6            [12, 28, 878]                en      28.515   2010-05-07   \n",
       "\n",
       "   vote_average  \n",
       "0           7.7  \n",
       "3           8.3  \n",
       "4           6.1  \n",
       "5           6.0  \n",
       "6           6.8  "
      ]
     },
     "execution_count": 17,
     "metadata": {},
     "output_type": "execute_result"
    }
   ],
   "source": [
    "# Changing the release_date column to DateTime column\n",
    "\n",
    "bom_movies.release_date = pd.to_datetime(bom_movies['release_date'])\n",
    "bom_movies.head()"
   ]
  },
  {
   "cell_type": "code",
   "execution_count": 18,
   "id": "4c98ac1b",
   "metadata": {
    "scrolled": true
   },
   "outputs": [
    {
     "data": {
      "text/html": [
       "<div>\n",
       "<style scoped>\n",
       "    .dataframe tbody tr th:only-of-type {\n",
       "        vertical-align: middle;\n",
       "    }\n",
       "\n",
       "    .dataframe tbody tr th {\n",
       "        vertical-align: top;\n",
       "    }\n",
       "\n",
       "    .dataframe thead th {\n",
       "        text-align: right;\n",
       "    }\n",
       "</style>\n",
       "<table border=\"1\" class=\"dataframe\">\n",
       "  <thead>\n",
       "    <tr style=\"text-align: right;\">\n",
       "      <th></th>\n",
       "      <th>title</th>\n",
       "      <th>domestic_gross</th>\n",
       "      <th>foreign_gross</th>\n",
       "      <th>genre_ids</th>\n",
       "      <th>original_language</th>\n",
       "      <th>popularity</th>\n",
       "      <th>release_date</th>\n",
       "      <th>vote_average</th>\n",
       "      <th>release_year</th>\n",
       "    </tr>\n",
       "  </thead>\n",
       "  <tbody>\n",
       "    <tr>\n",
       "      <th>0</th>\n",
       "      <td>Toy Story 3</td>\n",
       "      <td>415000000.0</td>\n",
       "      <td>652000000</td>\n",
       "      <td>[16, 10751, 35]</td>\n",
       "      <td>en</td>\n",
       "      <td>24.445</td>\n",
       "      <td>2010-06-17</td>\n",
       "      <td>7.7</td>\n",
       "      <td>2010</td>\n",
       "    </tr>\n",
       "    <tr>\n",
       "      <th>3</th>\n",
       "      <td>Inception</td>\n",
       "      <td>292600000.0</td>\n",
       "      <td>535700000</td>\n",
       "      <td>[28, 878, 12]</td>\n",
       "      <td>en</td>\n",
       "      <td>27.920</td>\n",
       "      <td>2010-07-16</td>\n",
       "      <td>8.3</td>\n",
       "      <td>2010</td>\n",
       "    </tr>\n",
       "    <tr>\n",
       "      <th>4</th>\n",
       "      <td>Shrek Forever After</td>\n",
       "      <td>238700000.0</td>\n",
       "      <td>513900000</td>\n",
       "      <td>[35, 12, 14, 16, 10751]</td>\n",
       "      <td>en</td>\n",
       "      <td>15.041</td>\n",
       "      <td>2010-05-16</td>\n",
       "      <td>6.1</td>\n",
       "      <td>2010</td>\n",
       "    </tr>\n",
       "    <tr>\n",
       "      <th>5</th>\n",
       "      <td>The Twilight Saga: Eclipse</td>\n",
       "      <td>300500000.0</td>\n",
       "      <td>398000000</td>\n",
       "      <td>[12, 14, 18, 10749]</td>\n",
       "      <td>en</td>\n",
       "      <td>20.340</td>\n",
       "      <td>2010-06-23</td>\n",
       "      <td>6.0</td>\n",
       "      <td>2010</td>\n",
       "    </tr>\n",
       "    <tr>\n",
       "      <th>6</th>\n",
       "      <td>Iron Man 2</td>\n",
       "      <td>312400000.0</td>\n",
       "      <td>311500000</td>\n",
       "      <td>[12, 28, 878]</td>\n",
       "      <td>en</td>\n",
       "      <td>28.515</td>\n",
       "      <td>2010-05-07</td>\n",
       "      <td>6.8</td>\n",
       "      <td>2010</td>\n",
       "    </tr>\n",
       "  </tbody>\n",
       "</table>\n",
       "</div>"
      ],
      "text/plain": [
       "                        title  domestic_gross foreign_gross  \\\n",
       "0                 Toy Story 3     415000000.0     652000000   \n",
       "3                   Inception     292600000.0     535700000   \n",
       "4         Shrek Forever After     238700000.0     513900000   \n",
       "5  The Twilight Saga: Eclipse     300500000.0     398000000   \n",
       "6                  Iron Man 2     312400000.0     311500000   \n",
       "\n",
       "                 genre_ids original_language  popularity release_date  \\\n",
       "0          [16, 10751, 35]                en      24.445   2010-06-17   \n",
       "3            [28, 878, 12]                en      27.920   2010-07-16   \n",
       "4  [35, 12, 14, 16, 10751]                en      15.041   2010-05-16   \n",
       "5      [12, 14, 18, 10749]                en      20.340   2010-06-23   \n",
       "6            [12, 28, 878]                en      28.515   2010-05-07   \n",
       "\n",
       "   vote_average  release_year  \n",
       "0           7.7          2010  \n",
       "3           8.3          2010  \n",
       "4           6.1          2010  \n",
       "5           6.0          2010  \n",
       "6           6.8          2010  "
      ]
     },
     "execution_count": 18,
     "metadata": {},
     "output_type": "execute_result"
    }
   ],
   "source": [
    "#taking a year from every data \n",
    "bom_movies['release_year'] = bom_movies['release_date'].dt.year\n",
    "bom_movies.head()"
   ]
  },
  {
   "cell_type": "code",
   "execution_count": 19,
   "id": "cc05bb04",
   "metadata": {},
   "outputs": [
    {
     "data": {
      "image/png": "[encoded data removed]",
      "text/plain": [
       "<Figure size 1800x900 with 1 Axes>"
      ]
     },
     "metadata": {},
     "output_type": "display_data"
    },
    {
     "data": {
      "text/plain": [
       "<Figure size 640x480 with 0 Axes>"
      ]
     },
     "metadata": {},
     "output_type": "display_data"
    }
   ],
   "source": [
    "## plotting the most profitable year \n",
    "\n",
    "\n",
    "domestic_gross_year = bom_movies.groupby('release_year')['domestic_gross'].sum()\n",
    "plt.figure(figsize=(12,6), dpi = 150)\n",
    "\n",
    "plt.xlabel('Release Year', fontsize = 15)\n",
    "plt.ylabel(' Domestic Gross for Movie', fontsize = 15)\n",
    "plt.title('Domestic Gross earned and release year.')\n",
    "plt.plot(domestic_gross_year)\n",
    "plt.show()\n",
    "plt.savefig('images/protitible_year.jpg')"
   ]
  },
  {
   "cell_type": "markdown",
   "id": "11736406",
   "metadata": {},
   "source": [
    "In the graph above I wanted to show what was the most successful year for movie released.I also wanted to show that with every year movies getting better and more profitable. In this dataset there is only data from 2010 until 2015 years."
   ]
  },
  {
   "cell_type": "code",
   "execution_count": 20,
   "id": "38ac624a",
   "metadata": {},
   "outputs": [
    {
     "data": {
      "text/plain": [
       "2015"
      ]
     },
     "execution_count": 20,
     "metadata": {},
     "output_type": "execute_result"
    }
   ],
   "source": [
    "domestic_gross_year.idxmax()"
   ]
  },
  {
   "cell_type": "markdown",
   "id": "ec8c53cb",
   "metadata": {},
   "source": [
    "I wanted to see TOP 3 most profitable movies and analyze them to get an information and recommendation for my client on what would be the best language and genre for the future movie and find out what would be the approximate budget to create a new movie and also to predict future profit.  "
   ]
  },
  {
   "cell_type": "code",
   "execution_count": 21,
   "id": "7df7141f",
   "metadata": {},
   "outputs": [
    {
     "data": {
      "text/html": [
       "<div>\n",
       "<style scoped>\n",
       "    .dataframe tbody tr th:only-of-type {\n",
       "        vertical-align: middle;\n",
       "    }\n",
       "\n",
       "    .dataframe tbody tr th {\n",
       "        vertical-align: top;\n",
       "    }\n",
       "\n",
       "    .dataframe thead th {\n",
       "        text-align: right;\n",
       "    }\n",
       "</style>\n",
       "<table border=\"1\" class=\"dataframe\">\n",
       "  <thead>\n",
       "    <tr style=\"text-align: right;\">\n",
       "      <th></th>\n",
       "      <th>title</th>\n",
       "      <th>domestic_gross</th>\n",
       "      <th>foreign_gross</th>\n",
       "      <th>genre_ids</th>\n",
       "      <th>original_language</th>\n",
       "      <th>popularity</th>\n",
       "      <th>release_date</th>\n",
       "      <th>vote_average</th>\n",
       "      <th>release_year</th>\n",
       "    </tr>\n",
       "  </thead>\n",
       "  <tbody>\n",
       "    <tr>\n",
       "      <th>1</th>\n",
       "      <td>Toy Story 3</td>\n",
       "      <td>415000000.0</td>\n",
       "      <td>652000000</td>\n",
       "      <td>[16, 10751, 35]</td>\n",
       "      <td>en</td>\n",
       "      <td>24.445</td>\n",
       "      <td>2010-06-17</td>\n",
       "      <td>7.7</td>\n",
       "      <td>2010</td>\n",
       "    </tr>\n",
       "    <tr>\n",
       "      <th>2</th>\n",
       "      <td>Inception</td>\n",
       "      <td>292600000.0</td>\n",
       "      <td>535700000</td>\n",
       "      <td>[28, 878, 12]</td>\n",
       "      <td>en</td>\n",
       "      <td>27.920</td>\n",
       "      <td>2010-07-16</td>\n",
       "      <td>8.3</td>\n",
       "      <td>2010</td>\n",
       "    </tr>\n",
       "    <tr>\n",
       "      <th>3</th>\n",
       "      <td>Shrek Forever After</td>\n",
       "      <td>238700000.0</td>\n",
       "      <td>513900000</td>\n",
       "      <td>[35, 12, 14, 16, 10751]</td>\n",
       "      <td>en</td>\n",
       "      <td>15.041</td>\n",
       "      <td>2010-05-16</td>\n",
       "      <td>6.1</td>\n",
       "      <td>2010</td>\n",
       "    </tr>\n",
       "  </tbody>\n",
       "</table>\n",
       "</div>"
      ],
      "text/plain": [
       "                 title  domestic_gross foreign_gross                genre_ids  \\\n",
       "1          Toy Story 3     415000000.0     652000000          [16, 10751, 35]   \n",
       "2            Inception     292600000.0     535700000            [28, 878, 12]   \n",
       "3  Shrek Forever After     238700000.0     513900000  [35, 12, 14, 16, 10751]   \n",
       "\n",
       "  original_language  popularity release_date  vote_average  release_year  \n",
       "1                en      24.445   2010-06-17           7.7          2010  \n",
       "2                en      27.920   2010-07-16           8.3          2010  \n",
       "3                en      15.041   2010-05-16           6.1          2010  "
      ]
     },
     "execution_count": 21,
     "metadata": {},
     "output_type": "execute_result"
    }
   ],
   "source": [
    "#movies have profit over $80M \n",
    "profit= bom_movies[bom_movies['domestic_gross'] >= 80000000]\n",
    "profit.index = range(len(profit))\n",
    "profit.index = profit.index + 1\n",
    "profit.head(3)"
   ]
  },
  {
   "cell_type": "markdown",
   "id": "f750148a",
   "metadata": {},
   "source": [
    "So, those are the top 3 most profitable movies.   \n",
    "Top profitable movies are ‘Toy story 3’ , ‘Inception’ and ‘ Shrek Forever after’. All of these are in English.  The genres of the most profitable movies in this data set are for Toy Story Animation, Family, Comedy. For Inception its Action,Fiction, Adventure. And for Shrek its Animation, Family, Comedy, Adventure and Fantasy. So, here I could come to the conclusion based on the dataset to make a profitable movie it would have to be something for kids, for family, some Animation Family movie or some Action, Fiction, Adventure..\n"
   ]
  },
  {
   "cell_type": "markdown",
   "id": "5340479f",
   "metadata": {},
   "source": [
    "Then I wanted to check what are the top 5 movies based on popularity "
   ]
  },
  {
   "cell_type": "code",
   "execution_count": 22,
   "id": "421695ae",
   "metadata": {
    "scrolled": true
   },
   "outputs": [
    {
     "data": {
      "text/html": [
       "<div>\n",
       "<style scoped>\n",
       "    .dataframe tbody tr th:only-of-type {\n",
       "        vertical-align: middle;\n",
       "    }\n",
       "\n",
       "    .dataframe tbody tr th {\n",
       "        vertical-align: top;\n",
       "    }\n",
       "\n",
       "    .dataframe thead th {\n",
       "        text-align: right;\n",
       "    }\n",
       "</style>\n",
       "<table border=\"1\" class=\"dataframe\">\n",
       "  <thead>\n",
       "    <tr style=\"text-align: right;\">\n",
       "      <th></th>\n",
       "      <th>title</th>\n",
       "      <th>domestic_gross</th>\n",
       "      <th>foreign_gross</th>\n",
       "      <th>genre_ids</th>\n",
       "      <th>original_language</th>\n",
       "      <th>popularity</th>\n",
       "      <th>release_date</th>\n",
       "      <th>vote_average</th>\n",
       "      <th>release_year</th>\n",
       "    </tr>\n",
       "  </thead>\n",
       "  <tbody>\n",
       "    <tr>\n",
       "      <th>3391</th>\n",
       "      <td>Avengers: Infinity War</td>\n",
       "      <td>678800000.0</td>\n",
       "      <td>1,369.5</td>\n",
       "      <td>[12, 28, 14]</td>\n",
       "      <td>en</td>\n",
       "      <td>80.773</td>\n",
       "      <td>2018-04-27</td>\n",
       "      <td>8.3</td>\n",
       "      <td>2018</td>\n",
       "    </tr>\n",
       "    <tr>\n",
       "      <th>1619</th>\n",
       "      <td>John Wick</td>\n",
       "      <td>43000000.0</td>\n",
       "      <td>45700000</td>\n",
       "      <td>[28, 53]</td>\n",
       "      <td>en</td>\n",
       "      <td>78.123</td>\n",
       "      <td>2014-10-24</td>\n",
       "      <td>7.2</td>\n",
       "      <td>2014</td>\n",
       "    </tr>\n",
       "    <tr>\n",
       "      <th>1539</th>\n",
       "      <td>The Hobbit: The Battle of the Five Armies</td>\n",
       "      <td>255100000.0</td>\n",
       "      <td>700900000</td>\n",
       "      <td>[28, 12, 14]</td>\n",
       "      <td>en</td>\n",
       "      <td>53.783</td>\n",
       "      <td>2014-12-17</td>\n",
       "      <td>7.3</td>\n",
       "      <td>2014</td>\n",
       "    </tr>\n",
       "    <tr>\n",
       "      <th>1540</th>\n",
       "      <td>Guardians of the Galaxy</td>\n",
       "      <td>333200000.0</td>\n",
       "      <td>440200000</td>\n",
       "      <td>[28, 878, 12]</td>\n",
       "      <td>en</td>\n",
       "      <td>49.606</td>\n",
       "      <td>2014-08-01</td>\n",
       "      <td>7.9</td>\n",
       "      <td>2014</td>\n",
       "    </tr>\n",
       "    <tr>\n",
       "      <th>3047</th>\n",
       "      <td>Blade Runner 2049</td>\n",
       "      <td>92100000.0</td>\n",
       "      <td>167200000</td>\n",
       "      <td>[878, 28, 53]</td>\n",
       "      <td>en</td>\n",
       "      <td>48.571</td>\n",
       "      <td>2017-10-06</td>\n",
       "      <td>7.4</td>\n",
       "      <td>2017</td>\n",
       "    </tr>\n",
       "  </tbody>\n",
       "</table>\n",
       "</div>"
      ],
      "text/plain": [
       "                                          title  domestic_gross foreign_gross  \\\n",
       "3391                     Avengers: Infinity War     678800000.0       1,369.5   \n",
       "1619                                  John Wick      43000000.0      45700000   \n",
       "1539  The Hobbit: The Battle of the Five Armies     255100000.0     700900000   \n",
       "1540                    Guardians of the Galaxy     333200000.0     440200000   \n",
       "3047                          Blade Runner 2049      92100000.0     167200000   \n",
       "\n",
       "          genre_ids original_language  popularity release_date  vote_average  \\\n",
       "3391   [12, 28, 14]                en      80.773   2018-04-27           8.3   \n",
       "1619       [28, 53]                en      78.123   2014-10-24           7.2   \n",
       "1539   [28, 12, 14]                en      53.783   2014-12-17           7.3   \n",
       "1540  [28, 878, 12]                en      49.606   2014-08-01           7.9   \n",
       "3047  [878, 28, 53]                en      48.571   2017-10-06           7.4   \n",
       "\n",
       "      release_year  \n",
       "3391          2018  \n",
       "1619          2014  \n",
       "1539          2014  \n",
       "1540          2014  \n",
       "3047          2017  "
      ]
     },
     "execution_count": 22,
     "metadata": {},
     "output_type": "execute_result"
    }
   ],
   "source": [
    "#checkin top 5 popular movies\n",
    "popular_movies_df = bom_movies.sort_values(by ='popularity', ascending=False).head()\n",
    "popular_movies_df"
   ]
  },
  {
   "cell_type": "markdown",
   "id": "aac0ad7a",
   "metadata": {},
   "source": [
    "Ok, so, here are the top 5 most popular movies in this dataset. Again, the language is English for all the movies.  The genres for all those movies  are very similar; Adventure,Action,Fantasy,Thriller, Fiction. So , those are what people are interested in based on the provided dataset.\n"
   ]
  },
  {
   "cell_type": "code",
   "execution_count": 23,
   "id": "ead2d66e",
   "metadata": {
    "scrolled": true
   },
   "outputs": [
    {
     "data": {
      "text/html": [
       "<div>\n",
       "<style scoped>\n",
       "    .dataframe tbody tr th:only-of-type {\n",
       "        vertical-align: middle;\n",
       "    }\n",
       "\n",
       "    .dataframe tbody tr th {\n",
       "        vertical-align: top;\n",
       "    }\n",
       "\n",
       "    .dataframe thead th {\n",
       "        text-align: right;\n",
       "    }\n",
       "</style>\n",
       "<table border=\"1\" class=\"dataframe\">\n",
       "  <thead>\n",
       "    <tr style=\"text-align: right;\">\n",
       "      <th></th>\n",
       "      <th>title</th>\n",
       "      <th>domestic_gross</th>\n",
       "      <th>foreign_gross</th>\n",
       "      <th>genre_ids</th>\n",
       "      <th>original_language</th>\n",
       "      <th>popularity</th>\n",
       "      <th>release_date</th>\n",
       "      <th>vote_average</th>\n",
       "      <th>release_year</th>\n",
       "    </tr>\n",
       "  </thead>\n",
       "  <tbody>\n",
       "    <tr>\n",
       "      <th>3</th>\n",
       "      <td>Inception</td>\n",
       "      <td>292600000.0</td>\n",
       "      <td>535700000</td>\n",
       "      <td>[28, 878, 12]</td>\n",
       "      <td>en</td>\n",
       "      <td>27.920</td>\n",
       "      <td>2010-07-16</td>\n",
       "      <td>8.3</td>\n",
       "      <td>2010</td>\n",
       "    </tr>\n",
       "    <tr>\n",
       "      <th>23</th>\n",
       "      <td>Shutter Island</td>\n",
       "      <td>128000000.0</td>\n",
       "      <td>166800000</td>\n",
       "      <td>[18, 53, 9648]</td>\n",
       "      <td>en</td>\n",
       "      <td>18.060</td>\n",
       "      <td>2010-02-18</td>\n",
       "      <td>8.1</td>\n",
       "      <td>2010</td>\n",
       "    </tr>\n",
       "    <tr>\n",
       "      <th>366</th>\n",
       "      <td>The Help</td>\n",
       "      <td>169700000.0</td>\n",
       "      <td>46900000</td>\n",
       "      <td>[18]</td>\n",
       "      <td>en</td>\n",
       "      <td>12.598</td>\n",
       "      <td>2011-08-10</td>\n",
       "      <td>8.1</td>\n",
       "      <td>2011</td>\n",
       "    </tr>\n",
       "    <tr>\n",
       "      <th>533</th>\n",
       "      <td>Senna</td>\n",
       "      <td>1600000.0</td>\n",
       "      <td>6600000</td>\n",
       "      <td>[99]</td>\n",
       "      <td>en</td>\n",
       "      <td>7.410</td>\n",
       "      <td>2011-01-21</td>\n",
       "      <td>8.3</td>\n",
       "      <td>2011</td>\n",
       "    </tr>\n",
       "    <tr>\n",
       "      <th>767</th>\n",
       "      <td>Django Unchained</td>\n",
       "      <td>162800000.0</td>\n",
       "      <td>262600000</td>\n",
       "      <td>[18, 37]</td>\n",
       "      <td>en</td>\n",
       "      <td>21.260</td>\n",
       "      <td>2012-12-25</td>\n",
       "      <td>8.0</td>\n",
       "      <td>2012</td>\n",
       "    </tr>\n",
       "    <tr>\n",
       "      <th>925</th>\n",
       "      <td>Delicacy</td>\n",
       "      <td>499000.0</td>\n",
       "      <td>9200000</td>\n",
       "      <td>[27, 18]</td>\n",
       "      <td>en</td>\n",
       "      <td>0.600</td>\n",
       "      <td>2013-04-20</td>\n",
       "      <td>8.0</td>\n",
       "      <td>2013</td>\n",
       "    </tr>\n",
       "    <tr>\n",
       "      <th>1117</th>\n",
       "      <td>Wagner &amp; Me</td>\n",
       "      <td>37700.0</td>\n",
       "      <td>41000</td>\n",
       "      <td>[10402, 99]</td>\n",
       "      <td>en</td>\n",
       "      <td>0.840</td>\n",
       "      <td>2012-11-02</td>\n",
       "      <td>8.0</td>\n",
       "      <td>2012</td>\n",
       "    </tr>\n",
       "    <tr>\n",
       "      <th>1233</th>\n",
       "      <td>Prisoners</td>\n",
       "      <td>61000000.0</td>\n",
       "      <td>61100000</td>\n",
       "      <td>[18, 53, 80]</td>\n",
       "      <td>en</td>\n",
       "      <td>14.358</td>\n",
       "      <td>2013-09-21</td>\n",
       "      <td>8.0</td>\n",
       "      <td>2013</td>\n",
       "    </tr>\n",
       "    <tr>\n",
       "      <th>1336</th>\n",
       "      <td>Paranoia</td>\n",
       "      <td>7400000.0</td>\n",
       "      <td>6400000</td>\n",
       "      <td>[53, 27]</td>\n",
       "      <td>en</td>\n",
       "      <td>0.600</td>\n",
       "      <td>2016-05-24</td>\n",
       "      <td>10.0</td>\n",
       "      <td>2016</td>\n",
       "    </tr>\n",
       "    <tr>\n",
       "      <th>1547</th>\n",
       "      <td>Interstellar</td>\n",
       "      <td>188000000.0</td>\n",
       "      <td>489400000</td>\n",
       "      <td>[12, 18, 878]</td>\n",
       "      <td>en</td>\n",
       "      <td>28.440</td>\n",
       "      <td>2014-11-05</td>\n",
       "      <td>8.2</td>\n",
       "      <td>2014</td>\n",
       "    </tr>\n",
       "    <tr>\n",
       "      <th>1576</th>\n",
       "      <td>The Imitation Game</td>\n",
       "      <td>91100000.0</td>\n",
       "      <td>142400000</td>\n",
       "      <td>[36, 18, 53, 10752]</td>\n",
       "      <td>en</td>\n",
       "      <td>33.078</td>\n",
       "      <td>2014-12-19</td>\n",
       "      <td>8.1</td>\n",
       "      <td>2014</td>\n",
       "    </tr>\n",
       "    <tr>\n",
       "      <th>1588</th>\n",
       "      <td>The Grand Budapest Hotel</td>\n",
       "      <td>59300000.0</td>\n",
       "      <td>115500000</td>\n",
       "      <td>[35, 18]</td>\n",
       "      <td>en</td>\n",
       "      <td>18.310</td>\n",
       "      <td>2014-03-07</td>\n",
       "      <td>8.0</td>\n",
       "      <td>2014</td>\n",
       "    </tr>\n",
       "    <tr>\n",
       "      <th>1652</th>\n",
       "      <td>Whiplash</td>\n",
       "      <td>13100000.0</td>\n",
       "      <td>35900000</td>\n",
       "      <td>[18, 10402]</td>\n",
       "      <td>en</td>\n",
       "      <td>28.784</td>\n",
       "      <td>2014-10-10</td>\n",
       "      <td>8.4</td>\n",
       "      <td>2014</td>\n",
       "    </tr>\n",
       "    <tr>\n",
       "      <th>1962</th>\n",
       "      <td>Inside Out</td>\n",
       "      <td>356500000.0</td>\n",
       "      <td>501100000</td>\n",
       "      <td>[18, 35, 16, 10751]</td>\n",
       "      <td>en</td>\n",
       "      <td>24.797</td>\n",
       "      <td>2015-06-19</td>\n",
       "      <td>8.0</td>\n",
       "      <td>2015</td>\n",
       "    </tr>\n",
       "    <tr>\n",
       "      <th>2039</th>\n",
       "      <td>Black Mass</td>\n",
       "      <td>62600000.0</td>\n",
       "      <td>37200000</td>\n",
       "      <td>[27]</td>\n",
       "      <td>en</td>\n",
       "      <td>0.959</td>\n",
       "      <td>2017-05-01</td>\n",
       "      <td>10.0</td>\n",
       "      <td>2017</td>\n",
       "    </tr>\n",
       "    <tr>\n",
       "      <th>2043</th>\n",
       "      <td>The Visit</td>\n",
       "      <td>65200000.0</td>\n",
       "      <td>33200000</td>\n",
       "      <td>[]</td>\n",
       "      <td>en</td>\n",
       "      <td>0.631</td>\n",
       "      <td>2015-05-01</td>\n",
       "      <td>8.0</td>\n",
       "      <td>2015</td>\n",
       "    </tr>\n",
       "    <tr>\n",
       "      <th>2046</th>\n",
       "      <td>Spotlight</td>\n",
       "      <td>45100000.0</td>\n",
       "      <td>53200000</td>\n",
       "      <td>[]</td>\n",
       "      <td>en</td>\n",
       "      <td>0.600</td>\n",
       "      <td>2018-01-28</td>\n",
       "      <td>10.0</td>\n",
       "      <td>2018</td>\n",
       "    </tr>\n",
       "    <tr>\n",
       "      <th>2115</th>\n",
       "      <td>Room</td>\n",
       "      <td>14700000.0</td>\n",
       "      <td>20700000</td>\n",
       "      <td>[18, 53]</td>\n",
       "      <td>en</td>\n",
       "      <td>20.000</td>\n",
       "      <td>2015-10-16</td>\n",
       "      <td>8.1</td>\n",
       "      <td>2015</td>\n",
       "    </tr>\n",
       "    <tr>\n",
       "      <th>2531</th>\n",
       "      <td>Hidden Figures</td>\n",
       "      <td>169600000.0</td>\n",
       "      <td>66300000</td>\n",
       "      <td>[18, 36]</td>\n",
       "      <td>en</td>\n",
       "      <td>14.751</td>\n",
       "      <td>2016-12-10</td>\n",
       "      <td>8.0</td>\n",
       "      <td>2016</td>\n",
       "    </tr>\n",
       "    <tr>\n",
       "      <th>2547</th>\n",
       "      <td>Hacksaw Ridge</td>\n",
       "      <td>67200000.0</td>\n",
       "      <td>108100000</td>\n",
       "      <td>[18, 36, 10752]</td>\n",
       "      <td>en</td>\n",
       "      <td>24.074</td>\n",
       "      <td>2016-11-04</td>\n",
       "      <td>8.1</td>\n",
       "      <td>2016</td>\n",
       "    </tr>\n",
       "    <tr>\n",
       "      <th>2563</th>\n",
       "      <td>Lion</td>\n",
       "      <td>51700000.0</td>\n",
       "      <td>88600000</td>\n",
       "      <td>[18]</td>\n",
       "      <td>en</td>\n",
       "      <td>17.216</td>\n",
       "      <td>2016-11-25</td>\n",
       "      <td>8.1</td>\n",
       "      <td>2016</td>\n",
       "    </tr>\n",
       "    <tr>\n",
       "      <th>2593</th>\n",
       "      <td>Nerve</td>\n",
       "      <td>38600000.0</td>\n",
       "      <td>46700000</td>\n",
       "      <td>[35, 18]</td>\n",
       "      <td>en</td>\n",
       "      <td>0.600</td>\n",
       "      <td>2011-12-07</td>\n",
       "      <td>10.0</td>\n",
       "      <td>2011</td>\n",
       "    </tr>\n",
       "    <tr>\n",
       "      <th>2663</th>\n",
       "      <td>Captain Fantastic</td>\n",
       "      <td>5900000.0</td>\n",
       "      <td>16900000</td>\n",
       "      <td>[12, 35, 18]</td>\n",
       "      <td>en</td>\n",
       "      <td>14.883</td>\n",
       "      <td>2016-07-08</td>\n",
       "      <td>8.0</td>\n",
       "      <td>2016</td>\n",
       "    </tr>\n",
       "    <tr>\n",
       "      <th>2693</th>\n",
       "      <td>Sing Street</td>\n",
       "      <td>3200000.0</td>\n",
       "      <td>10400000</td>\n",
       "      <td>[35, 10749, 18, 10402]</td>\n",
       "      <td>en</td>\n",
       "      <td>10.102</td>\n",
       "      <td>2016-04-15</td>\n",
       "      <td>8.0</td>\n",
       "      <td>2016</td>\n",
       "    </tr>\n",
       "    <tr>\n",
       "      <th>3013</th>\n",
       "      <td>Coco</td>\n",
       "      <td>209700000.0</td>\n",
       "      <td>597400000</td>\n",
       "      <td>[16, 10751, 35, 12, 14]</td>\n",
       "      <td>en</td>\n",
       "      <td>25.961</td>\n",
       "      <td>2017-11-22</td>\n",
       "      <td>8.2</td>\n",
       "      <td>2017</td>\n",
       "    </tr>\n",
       "    <tr>\n",
       "      <th>3026</th>\n",
       "      <td>The Greatest Showman</td>\n",
       "      <td>174300000.0</td>\n",
       "      <td>260700000</td>\n",
       "      <td>[18]</td>\n",
       "      <td>en</td>\n",
       "      <td>22.009</td>\n",
       "      <td>2017-12-20</td>\n",
       "      <td>8.0</td>\n",
       "      <td>2017</td>\n",
       "    </tr>\n",
       "    <tr>\n",
       "      <th>3039</th>\n",
       "      <td>Wonder</td>\n",
       "      <td>132400000.0</td>\n",
       "      <td>173500000</td>\n",
       "      <td>[18, 10751]</td>\n",
       "      <td>en</td>\n",
       "      <td>20.101</td>\n",
       "      <td>2017-11-17</td>\n",
       "      <td>8.2</td>\n",
       "      <td>2017</td>\n",
       "    </tr>\n",
       "    <tr>\n",
       "      <th>3074</th>\n",
       "      <td>Three Billboards Outside Ebbing, Missouri</td>\n",
       "      <td>54500000.0</td>\n",
       "      <td>104700000</td>\n",
       "      <td>[80, 18]</td>\n",
       "      <td>en</td>\n",
       "      <td>17.808</td>\n",
       "      <td>2017-11-10</td>\n",
       "      <td>8.2</td>\n",
       "      <td>2017</td>\n",
       "    </tr>\n",
       "    <tr>\n",
       "      <th>3143</th>\n",
       "      <td>Loving Vincent</td>\n",
       "      <td>6700000.0</td>\n",
       "      <td>35500000</td>\n",
       "      <td>[16, 18, 9648]</td>\n",
       "      <td>en</td>\n",
       "      <td>10.025</td>\n",
       "      <td>2017-09-22</td>\n",
       "      <td>8.2</td>\n",
       "      <td>2017</td>\n",
       "    </tr>\n",
       "    <tr>\n",
       "      <th>3145</th>\n",
       "      <td>Call Me by Your Name</td>\n",
       "      <td>18100000.0</td>\n",
       "      <td>23800000</td>\n",
       "      <td>[10749, 18]</td>\n",
       "      <td>en</td>\n",
       "      <td>20.504</td>\n",
       "      <td>2017-11-24</td>\n",
       "      <td>8.3</td>\n",
       "      <td>2017</td>\n",
       "    </tr>\n",
       "    <tr>\n",
       "      <th>3282</th>\n",
       "      <td>Buena Vista Social Club: Adios</td>\n",
       "      <td>123000.0</td>\n",
       "      <td>578000</td>\n",
       "      <td>[99]</td>\n",
       "      <td>en</td>\n",
       "      <td>0.797</td>\n",
       "      <td>2017-05-26</td>\n",
       "      <td>9.5</td>\n",
       "      <td>2017</td>\n",
       "    </tr>\n",
       "    <tr>\n",
       "      <th>3391</th>\n",
       "      <td>Avengers: Infinity War</td>\n",
       "      <td>678800000.0</td>\n",
       "      <td>1,369.5</td>\n",
       "      <td>[12, 28, 14]</td>\n",
       "      <td>en</td>\n",
       "      <td>80.773</td>\n",
       "      <td>2018-04-27</td>\n",
       "      <td>8.3</td>\n",
       "      <td>2018</td>\n",
       "    </tr>\n",
       "    <tr>\n",
       "      <th>3397</th>\n",
       "      <td>Bohemian Rhapsody</td>\n",
       "      <td>216400000.0</td>\n",
       "      <td>687200000</td>\n",
       "      <td>[18, 10402]</td>\n",
       "      <td>en</td>\n",
       "      <td>37.197</td>\n",
       "      <td>2018-11-02</td>\n",
       "      <td>8.1</td>\n",
       "      <td>2018</td>\n",
       "    </tr>\n",
       "    <tr>\n",
       "      <th>3422</th>\n",
       "      <td>Green Book</td>\n",
       "      <td>85100000.0</td>\n",
       "      <td>234700000</td>\n",
       "      <td>[18, 35]</td>\n",
       "      <td>en</td>\n",
       "      <td>36.284</td>\n",
       "      <td>2018-11-16</td>\n",
       "      <td>8.3</td>\n",
       "      <td>2018</td>\n",
       "    </tr>\n",
       "    <tr>\n",
       "      <th>3476</th>\n",
       "      <td>Searching</td>\n",
       "      <td>26000000.0</td>\n",
       "      <td>49400000</td>\n",
       "      <td>[18]</td>\n",
       "      <td>en</td>\n",
       "      <td>0.687</td>\n",
       "      <td>2013-11-12</td>\n",
       "      <td>8.7</td>\n",
       "      <td>2013</td>\n",
       "    </tr>\n",
       "    <tr>\n",
       "      <th>3484</th>\n",
       "      <td>Love, Simon</td>\n",
       "      <td>40800000.0</td>\n",
       "      <td>25500000</td>\n",
       "      <td>[35, 18, 10749]</td>\n",
       "      <td>en</td>\n",
       "      <td>15.608</td>\n",
       "      <td>2018-03-16</td>\n",
       "      <td>8.2</td>\n",
       "      <td>2018</td>\n",
       "    </tr>\n",
       "    <tr>\n",
       "      <th>3509</th>\n",
       "      <td>The Hate U Give</td>\n",
       "      <td>29700000.0</td>\n",
       "      <td>5200000</td>\n",
       "      <td>[80, 18]</td>\n",
       "      <td>en</td>\n",
       "      <td>19.135</td>\n",
       "      <td>2018-10-19</td>\n",
       "      <td>8.2</td>\n",
       "      <td>2018</td>\n",
       "    </tr>\n",
       "    <tr>\n",
       "      <th>3561</th>\n",
       "      <td>Disobedience</td>\n",
       "      <td>3500000.0</td>\n",
       "      <td>4400000</td>\n",
       "      <td>[99]</td>\n",
       "      <td>en</td>\n",
       "      <td>0.634</td>\n",
       "      <td>2016-04-29</td>\n",
       "      <td>8.0</td>\n",
       "      <td>2016</td>\n",
       "    </tr>\n",
       "  </tbody>\n",
       "</table>\n",
       "</div>"
      ],
      "text/plain": [
       "                                          title  domestic_gross foreign_gross  \\\n",
       "3                                     Inception     292600000.0     535700000   \n",
       "23                               Shutter Island     128000000.0     166800000   \n",
       "366                                    The Help     169700000.0      46900000   \n",
       "533                                       Senna       1600000.0       6600000   \n",
       "767                            Django Unchained     162800000.0     262600000   \n",
       "925                                    Delicacy        499000.0       9200000   \n",
       "1117                                Wagner & Me         37700.0         41000   \n",
       "1233                                  Prisoners      61000000.0      61100000   \n",
       "1336                                   Paranoia       7400000.0       6400000   \n",
       "1547                               Interstellar     188000000.0     489400000   \n",
       "1576                         The Imitation Game      91100000.0     142400000   \n",
       "1588                   The Grand Budapest Hotel      59300000.0     115500000   \n",
       "1652                                   Whiplash      13100000.0      35900000   \n",
       "1962                                 Inside Out     356500000.0     501100000   \n",
       "2039                                 Black Mass      62600000.0      37200000   \n",
       "2043                                  The Visit      65200000.0      33200000   \n",
       "2046                                  Spotlight      45100000.0      53200000   \n",
       "2115                                       Room      14700000.0      20700000   \n",
       "2531                             Hidden Figures     169600000.0      66300000   \n",
       "2547                              Hacksaw Ridge      67200000.0     108100000   \n",
       "2563                                       Lion      51700000.0      88600000   \n",
       "2593                                      Nerve      38600000.0      46700000   \n",
       "2663                          Captain Fantastic       5900000.0      16900000   \n",
       "2693                                Sing Street       3200000.0      10400000   \n",
       "3013                                       Coco     209700000.0     597400000   \n",
       "3026                       The Greatest Showman     174300000.0     260700000   \n",
       "3039                                     Wonder     132400000.0     173500000   \n",
       "3074  Three Billboards Outside Ebbing, Missouri      54500000.0     104700000   \n",
       "3143                             Loving Vincent       6700000.0      35500000   \n",
       "3145                       Call Me by Your Name      18100000.0      23800000   \n",
       "3282             Buena Vista Social Club: Adios        123000.0        578000   \n",
       "3391                     Avengers: Infinity War     678800000.0       1,369.5   \n",
       "3397                          Bohemian Rhapsody     216400000.0     687200000   \n",
       "3422                                 Green Book      85100000.0     234700000   \n",
       "3476                                  Searching      26000000.0      49400000   \n",
       "3484                                Love, Simon      40800000.0      25500000   \n",
       "3509                            The Hate U Give      29700000.0       5200000   \n",
       "3561                               Disobedience       3500000.0       4400000   \n",
       "\n",
       "                    genre_ids original_language  popularity release_date  \\\n",
       "3               [28, 878, 12]                en      27.920   2010-07-16   \n",
       "23             [18, 53, 9648]                en      18.060   2010-02-18   \n",
       "366                      [18]                en      12.598   2011-08-10   \n",
       "533                      [99]                en       7.410   2011-01-21   \n",
       "767                  [18, 37]                en      21.260   2012-12-25   \n",
       "925                  [27, 18]                en       0.600   2013-04-20   \n",
       "1117              [10402, 99]                en       0.840   2012-11-02   \n",
       "1233             [18, 53, 80]                en      14.358   2013-09-21   \n",
       "1336                 [53, 27]                en       0.600   2016-05-24   \n",
       "1547            [12, 18, 878]                en      28.440   2014-11-05   \n",
       "1576      [36, 18, 53, 10752]                en      33.078   2014-12-19   \n",
       "1588                 [35, 18]                en      18.310   2014-03-07   \n",
       "1652              [18, 10402]                en      28.784   2014-10-10   \n",
       "1962      [18, 35, 16, 10751]                en      24.797   2015-06-19   \n",
       "2039                     [27]                en       0.959   2017-05-01   \n",
       "2043                       []                en       0.631   2015-05-01   \n",
       "2046                       []                en       0.600   2018-01-28   \n",
       "2115                 [18, 53]                en      20.000   2015-10-16   \n",
       "2531                 [18, 36]                en      14.751   2016-12-10   \n",
       "2547          [18, 36, 10752]                en      24.074   2016-11-04   \n",
       "2563                     [18]                en      17.216   2016-11-25   \n",
       "2593                 [35, 18]                en       0.600   2011-12-07   \n",
       "2663             [12, 35, 18]                en      14.883   2016-07-08   \n",
       "2693   [35, 10749, 18, 10402]                en      10.102   2016-04-15   \n",
       "3013  [16, 10751, 35, 12, 14]                en      25.961   2017-11-22   \n",
       "3026                     [18]                en      22.009   2017-12-20   \n",
       "3039              [18, 10751]                en      20.101   2017-11-17   \n",
       "3074                 [80, 18]                en      17.808   2017-11-10   \n",
       "3143           [16, 18, 9648]                en      10.025   2017-09-22   \n",
       "3145              [10749, 18]                en      20.504   2017-11-24   \n",
       "3282                     [99]                en       0.797   2017-05-26   \n",
       "3391             [12, 28, 14]                en      80.773   2018-04-27   \n",
       "3397              [18, 10402]                en      37.197   2018-11-02   \n",
       "3422                 [18, 35]                en      36.284   2018-11-16   \n",
       "3476                     [18]                en       0.687   2013-11-12   \n",
       "3484          [35, 18, 10749]                en      15.608   2018-03-16   \n",
       "3509                 [80, 18]                en      19.135   2018-10-19   \n",
       "3561                     [99]                en       0.634   2016-04-29   \n",
       "\n",
       "      vote_average  release_year  \n",
       "3              8.3          2010  \n",
       "23             8.1          2010  \n",
       "366            8.1          2011  \n",
       "533            8.3          2011  \n",
       "767            8.0          2012  \n",
       "925            8.0          2013  \n",
       "1117           8.0          2012  \n",
       "1233           8.0          2013  \n",
       "1336          10.0          2016  \n",
       "1547           8.2          2014  \n",
       "1576           8.1          2014  \n",
       "1588           8.0          2014  \n",
       "1652           8.4          2014  \n",
       "1962           8.0          2015  \n",
       "2039          10.0          2017  \n",
       "2043           8.0          2015  \n",
       "2046          10.0          2018  \n",
       "2115           8.1          2015  \n",
       "2531           8.0          2016  \n",
       "2547           8.1          2016  \n",
       "2563           8.1          2016  \n",
       "2593          10.0          2011  \n",
       "2663           8.0          2016  \n",
       "2693           8.0          2016  \n",
       "3013           8.2          2017  \n",
       "3026           8.0          2017  \n",
       "3039           8.2          2017  \n",
       "3074           8.2          2017  \n",
       "3143           8.2          2017  \n",
       "3145           8.3          2017  \n",
       "3282           9.5          2017  \n",
       "3391           8.3          2018  \n",
       "3397           8.1          2018  \n",
       "3422           8.3          2018  \n",
       "3476           8.7          2013  \n",
       "3484           8.2          2018  \n",
       "3509           8.2          2018  \n",
       "3561           8.0          2016  "
      ]
     },
     "execution_count": 23,
     "metadata": {},
     "output_type": "execute_result"
    }
   ],
   "source": [
    "#movies rated 8 and more\n",
    "bom_movies[bom_movies['vote_average'] >= 8.0]"
   ]
  },
  {
   "cell_type": "markdown",
   "id": "2573cd91",
   "metadata": {},
   "source": [
    "I checked movies rated 8 and more out of 10. I could see that nothing changed in language column. So, all of those movies are in English language.I wanted to make a plot to have a better vision of what language would be the best for the future movie."
   ]
  },
  {
   "cell_type": "code",
   "execution_count": 24,
   "id": "59bfa502",
   "metadata": {},
   "outputs": [
    {
     "data": {
      "text/plain": [
       "en    1358\n",
       "fr      11\n",
       "hi       9\n",
       "es       7\n",
       "it       2\n",
       "ko       2\n",
       "da       2\n",
       "de       2\n",
       "nl       2\n",
       "pt       1\n",
       "te       1\n",
       "th       1\n",
       "xx       1\n",
       "cs       1\n",
       "bs       1\n",
       "el       1\n",
       "ro       1\n",
       "zh       1\n",
       "Name: original_language, dtype: int64"
      ]
     },
     "execution_count": 24,
     "metadata": {},
     "output_type": "execute_result"
    }
   ],
   "source": [
    "#Languages for movies in our database \n",
    "bom_movies['original_language'].value_counts()"
   ]
  },
  {
   "cell_type": "markdown",
   "id": "0aa41bc0",
   "metadata": {},
   "source": [
    "Information about which Language for each ids number I found [here](https://gist.github.com/gamache/b933a1587155f133bf6c).\n",
    "I want to see what is the most popular language for the future movie"
   ]
  },
  {
   "cell_type": "code",
   "execution_count": 25,
   "id": "978e0d3d",
   "metadata": {
    "scrolled": false
   },
   "outputs": [
    {
     "data": {
      "image/png": "[encoded data removed]",
      "text/plain": [
       "<Figure size 1200x1000 with 1 Axes>"
      ]
     },
     "metadata": {},
     "output_type": "display_data"
    },
    {
     "data": {
      "text/plain": [
       "<Figure size 640x480 with 0 Axes>"
      ]
     },
     "metadata": {},
     "output_type": "display_data"
    }
   ],
   "source": [
    "# plotting the number of movies in each Language \n",
    "bom_movies['original_language']=bom_movies['original_language'].str.strip('[]').str.replace(' ','').str.replace(\"'\",'')\n",
    "bom_movies['original_language']=bom_movies['original_language'].str.split(',')\n",
    "\n",
    "plt.subplots(figsize=(12,10))\n",
    "list1=[]\n",
    "for i in bom_movies['original_language']:\n",
    "    list1.extend(i)\n",
    "ax = pd.Series(list1).value_counts()[:10].sort_values(ascending=True).plot.barh(width=0.9,color=sns.color_palette('summer_r',10))\n",
    "for i, v in enumerate(pd.Series(list1).value_counts()[:10].sort_values(ascending=True).values): \n",
    "    ax.text(.8, i, v,fontsize=12,color='black',weight='bold')\n",
    "ax.patches[9].set_facecolor('r')\n",
    "plt.title('Language')\n",
    "plt.show()\n",
    "plt.savefig('images/lenguage.jpg')"
   ]
  },
  {
   "cell_type": "markdown",
   "id": "897fd06c",
   "metadata": {},
   "source": [
    "After I saw the blot I could be sure that to make a successful movie language has to be English.\n",
    "I could also see there are not a lot of movies in this dataset in other languages."
   ]
  },
  {
   "cell_type": "markdown",
   "id": "ccf01b71",
   "metadata": {},
   "source": [
    "## Top 10 most common languages in this dataset are: \n",
    "#### -English       -1358 movies\n",
    "#### -French        -11 movies\n",
    "#### -Hindi            -9 movies\n",
    "#### -Spanish       -7 movies\n",
    "#### -Dutch           -2 movies\n",
    "#### -German        -2 movies\n",
    "#### -Danish          -2 movies\n",
    "#### -Korean         -2 movies\n",
    "#### -Italian           -2 movies\n",
    "#### -Portuguese -1 movies"
   ]
  },
  {
   "cell_type": "markdown",
   "id": "59ed8bef",
   "metadata": {},
   "source": [
    "I also wanted to predict the approximate budget that my client will need to make a movie. For that information I had to calculate the average budget for creating a movie."
   ]
  },
  {
   "cell_type": "code",
   "execution_count": 26,
   "id": "13986773",
   "metadata": {},
   "outputs": [
    {
     "data": {
      "text/html": [
       "<div>\n",
       "<style scoped>\n",
       "    .dataframe tbody tr th:only-of-type {\n",
       "        vertical-align: middle;\n",
       "    }\n",
       "\n",
       "    .dataframe tbody tr th {\n",
       "        vertical-align: top;\n",
       "    }\n",
       "\n",
       "    .dataframe thead th {\n",
       "        text-align: right;\n",
       "    }\n",
       "</style>\n",
       "<table border=\"1\" class=\"dataframe\">\n",
       "  <thead>\n",
       "    <tr style=\"text-align: right;\">\n",
       "      <th></th>\n",
       "      <th>id</th>\n",
       "      <th>release_date</th>\n",
       "      <th>movie</th>\n",
       "      <th>production_budget</th>\n",
       "      <th>domestic_gross</th>\n",
       "      <th>worldwide_gross</th>\n",
       "    </tr>\n",
       "  </thead>\n",
       "  <tbody>\n",
       "    <tr>\n",
       "      <th>0</th>\n",
       "      <td>1</td>\n",
       "      <td>Dec 18, 2009</td>\n",
       "      <td>Avatar</td>\n",
       "      <td>$425,000,000</td>\n",
       "      <td>$760,507,625</td>\n",
       "      <td>$2,776,345,279</td>\n",
       "    </tr>\n",
       "    <tr>\n",
       "      <th>1</th>\n",
       "      <td>2</td>\n",
       "      <td>May 20, 2011</td>\n",
       "      <td>Pirates of the Caribbean: On Stranger Tides</td>\n",
       "      <td>$410,600,000</td>\n",
       "      <td>$241,063,875</td>\n",
       "      <td>$1,045,663,875</td>\n",
       "    </tr>\n",
       "    <tr>\n",
       "      <th>2</th>\n",
       "      <td>3</td>\n",
       "      <td>Jun 7, 2019</td>\n",
       "      <td>Dark Phoenix</td>\n",
       "      <td>$350,000,000</td>\n",
       "      <td>$42,762,350</td>\n",
       "      <td>$149,762,350</td>\n",
       "    </tr>\n",
       "    <tr>\n",
       "      <th>3</th>\n",
       "      <td>4</td>\n",
       "      <td>May 1, 2015</td>\n",
       "      <td>Avengers: Age of Ultron</td>\n",
       "      <td>$330,600,000</td>\n",
       "      <td>$459,005,868</td>\n",
       "      <td>$1,403,013,963</td>\n",
       "    </tr>\n",
       "    <tr>\n",
       "      <th>4</th>\n",
       "      <td>5</td>\n",
       "      <td>Dec 15, 2017</td>\n",
       "      <td>Star Wars Ep. VIII: The Last Jedi</td>\n",
       "      <td>$317,000,000</td>\n",
       "      <td>$620,181,382</td>\n",
       "      <td>$1,316,721,747</td>\n",
       "    </tr>\n",
       "    <tr>\n",
       "      <th>...</th>\n",
       "      <td>...</td>\n",
       "      <td>...</td>\n",
       "      <td>...</td>\n",
       "      <td>...</td>\n",
       "      <td>...</td>\n",
       "      <td>...</td>\n",
       "    </tr>\n",
       "    <tr>\n",
       "      <th>5777</th>\n",
       "      <td>78</td>\n",
       "      <td>Dec 31, 2018</td>\n",
       "      <td>Red 11</td>\n",
       "      <td>$7,000</td>\n",
       "      <td>$0</td>\n",
       "      <td>$0</td>\n",
       "    </tr>\n",
       "    <tr>\n",
       "      <th>5778</th>\n",
       "      <td>79</td>\n",
       "      <td>Apr 2, 1999</td>\n",
       "      <td>Following</td>\n",
       "      <td>$6,000</td>\n",
       "      <td>$48,482</td>\n",
       "      <td>$240,495</td>\n",
       "    </tr>\n",
       "    <tr>\n",
       "      <th>5779</th>\n",
       "      <td>80</td>\n",
       "      <td>Jul 13, 2005</td>\n",
       "      <td>Return to the Land of Wonders</td>\n",
       "      <td>$5,000</td>\n",
       "      <td>$1,338</td>\n",
       "      <td>$1,338</td>\n",
       "    </tr>\n",
       "    <tr>\n",
       "      <th>5780</th>\n",
       "      <td>81</td>\n",
       "      <td>Sep 29, 2015</td>\n",
       "      <td>A Plague So Pleasant</td>\n",
       "      <td>$1,400</td>\n",
       "      <td>$0</td>\n",
       "      <td>$0</td>\n",
       "    </tr>\n",
       "    <tr>\n",
       "      <th>5781</th>\n",
       "      <td>82</td>\n",
       "      <td>Aug 5, 2005</td>\n",
       "      <td>My Date With Drew</td>\n",
       "      <td>$1,100</td>\n",
       "      <td>$181,041</td>\n",
       "      <td>$181,041</td>\n",
       "    </tr>\n",
       "  </tbody>\n",
       "</table>\n",
       "<p>5782 rows × 6 columns</p>\n",
       "</div>"
      ],
      "text/plain": [
       "      id  release_date                                        movie  \\\n",
       "0      1  Dec 18, 2009                                       Avatar   \n",
       "1      2  May 20, 2011  Pirates of the Caribbean: On Stranger Tides   \n",
       "2      3   Jun 7, 2019                                 Dark Phoenix   \n",
       "3      4   May 1, 2015                      Avengers: Age of Ultron   \n",
       "4      5  Dec 15, 2017            Star Wars Ep. VIII: The Last Jedi   \n",
       "...   ..           ...                                          ...   \n",
       "5777  78  Dec 31, 2018                                       Red 11   \n",
       "5778  79   Apr 2, 1999                                    Following   \n",
       "5779  80  Jul 13, 2005                Return to the Land of Wonders   \n",
       "5780  81  Sep 29, 2015                         A Plague So Pleasant   \n",
       "5781  82   Aug 5, 2005                            My Date With Drew   \n",
       "\n",
       "     production_budget domestic_gross worldwide_gross  \n",
       "0         $425,000,000   $760,507,625  $2,776,345,279  \n",
       "1         $410,600,000   $241,063,875  $1,045,663,875  \n",
       "2         $350,000,000    $42,762,350    $149,762,350  \n",
       "3         $330,600,000   $459,005,868  $1,403,013,963  \n",
       "4         $317,000,000   $620,181,382  $1,316,721,747  \n",
       "...                ...            ...             ...  \n",
       "5777            $7,000             $0              $0  \n",
       "5778            $6,000        $48,482        $240,495  \n",
       "5779            $5,000         $1,338          $1,338  \n",
       "5780            $1,400             $0              $0  \n",
       "5781            $1,100       $181,041        $181,041  \n",
       "\n",
       "[5782 rows x 6 columns]"
      ]
     },
     "execution_count": 26,
     "metadata": {},
     "output_type": "execute_result"
    }
   ],
   "source": [
    "budgets"
   ]
  },
  {
   "cell_type": "markdown",
   "id": "2e351880",
   "metadata": {},
   "source": [
    "First of all I had to clean the data by removing commas, spaces and dollar signs."
   ]
  },
  {
   "cell_type": "code",
   "execution_count": 27,
   "id": "d83e0e05",
   "metadata": {},
   "outputs": [
    {
     "name": "stderr",
     "output_type": "stream",
     "text": [
      "/var/folders/3n/2cj5xmpd5xv0c12mtvk3_4hm0000gn/T/ipykernel_75878/3377784623.py:3: FutureWarning: The default value of regex will change from True to False in a future version. In addition, single character regular expressions will *not* be treated as literal strings when regex=True.\n",
      "  budgets['production_budget']=budgets['production_budget'].str.replace('$', '')\n"
     ]
    }
   ],
   "source": [
    "#removing commas and dollars signs\n",
    "budgets['production_budget']=budgets['production_budget'].str.replace(',', '')\n",
    "budgets['production_budget']=budgets['production_budget'].str.replace('$', '')\n",
    "budgets['production_budget']=budgets['production_budget'].astype(int)"
   ]
  },
  {
   "cell_type": "markdown",
   "id": "9dd7235d",
   "metadata": {},
   "source": [
    "After I cleaned the data I wanted to see the average number of the budget to make a recommendation on what would be a good budget to create a new movie."
   ]
  },
  {
   "cell_type": "code",
   "execution_count": 28,
   "id": "189ccf27",
   "metadata": {},
   "outputs": [
    {
     "data": {
      "text/plain": [
       "31587757.0965064"
      ]
     },
     "execution_count": 28,
     "metadata": {},
     "output_type": "execute_result"
    }
   ],
   "source": [
    "#Average bugdget for movie\n",
    "budgets['production_budget'].mean()"
   ]
  },
  {
   "cell_type": "markdown",
   "id": "ea7f22c0",
   "metadata": {},
   "source": [
    "Looks like the average budget to create a movie would be 31 million USD. "
   ]
  },
  {
   "cell_type": "markdown",
   "id": "59c7984e",
   "metadata": {},
   "source": [
    "To predict the profit I first had to cleaned data by removing commas, spaces and dollar signs. Then calculate average number of worldwide gross and domestic gross then calculate what would be the profit."
   ]
  },
  {
   "cell_type": "code",
   "execution_count": 29,
   "id": "eb91c4f4",
   "metadata": {},
   "outputs": [
    {
     "name": "stderr",
     "output_type": "stream",
     "text": [
      "/var/folders/3n/2cj5xmpd5xv0c12mtvk3_4hm0000gn/T/ipykernel_75878/3358533335.py:3: FutureWarning: The default value of regex will change from True to False in a future version. In addition, single character regular expressions will *not* be treated as literal strings when regex=True.\n",
      "  budgets['worldwide_gross']=budgets['worldwide_gross'].str.replace('$', '')\n"
     ]
    }
   ],
   "source": [
    "#removing commas and dollars signs\n",
    "budgets['worldwide_gross']=budgets['worldwide_gross'].str.replace(',', '')\n",
    "budgets['worldwide_gross']=budgets['worldwide_gross'].str.replace('$', '')\n",
    "budgets['worldwide_gross']=budgets['worldwide_gross'].astype(int)"
   ]
  },
  {
   "cell_type": "code",
   "execution_count": 30,
   "id": "9ab6aa11",
   "metadata": {},
   "outputs": [
    {
     "data": {
      "text/plain": [
       "91487460.90643376"
      ]
     },
     "execution_count": 30,
     "metadata": {},
     "output_type": "execute_result"
    }
   ],
   "source": [
    "#Average worldwide gross for movie\n",
    "budgets['worldwide_gross'].mean()"
   ]
  },
  {
   "cell_type": "markdown",
   "id": "93efda75",
   "metadata": {},
   "source": [
    "The average worldwide gross is 91 million USD. \n",
    "So, the worldwide profit would be 60 million USD"
   ]
  },
  {
   "cell_type": "code",
   "execution_count": 31,
   "id": "f72740ea",
   "metadata": {},
   "outputs": [
    {
     "name": "stderr",
     "output_type": "stream",
     "text": [
      "/var/folders/3n/2cj5xmpd5xv0c12mtvk3_4hm0000gn/T/ipykernel_75878/2118193080.py:3: FutureWarning: The default value of regex will change from True to False in a future version. In addition, single character regular expressions will *not* be treated as literal strings when regex=True.\n",
      "  budgets['domestic_gross']=budgets['domestic_gross'].str.replace('$', '')\n"
     ]
    }
   ],
   "source": [
    "#removing commas and dollars signs\n",
    "budgets['domestic_gross']=budgets['domestic_gross'].str.replace(',', '')\n",
    "budgets['domestic_gross']=budgets['domestic_gross'].str.replace('$', '')\n",
    "budgets['domestic_gross']=budgets['domestic_gross'].astype(int)"
   ]
  },
  {
   "cell_type": "code",
   "execution_count": 32,
   "id": "5afc7e10",
   "metadata": {},
   "outputs": [
    {
     "data": {
      "text/plain": [
       "41873326.867001034"
      ]
     },
     "execution_count": 32,
     "metadata": {},
     "output_type": "execute_result"
    }
   ],
   "source": [
    "#Average domestic gross for movie\n",
    "budgets['domestic_gross'].mean()"
   ]
  },
  {
   "cell_type": "markdown",
   "id": "1226e404",
   "metadata": {},
   "source": [
    "The average domestic gross is 41 million USD. \n",
    "So, the domestic profit would be 10 million USD."
   ]
  },
  {
   "cell_type": "markdown",
   "id": "5fb0549c",
   "metadata": {},
   "source": [
    "### What types of movies are currently most successful?"
   ]
  },
  {
   "cell_type": "markdown",
   "id": "4f6c1beb",
   "metadata": {},
   "source": [
    "To ansver this question first I had to clean the data by removing spaces and commas then I had to replace genre ids with genre name. Then I wanted to make a plot for better vision."
   ]
  },
  {
   "cell_type": "code",
   "execution_count": 33,
   "id": "319d5a98",
   "metadata": {},
   "outputs": [
    {
     "data": {
      "text/plain": [
       "['Action and Adventure', 'Classics', 'Drama']"
      ]
     },
     "execution_count": 33,
     "metadata": {},
     "output_type": "execute_result"
    }
   ],
   "source": [
    "#spliting genres\n",
    "info_df['genre'][0].split('|')"
   ]
  },
  {
   "cell_type": "code",
   "execution_count": 34,
   "id": "44274633",
   "metadata": {
    "scrolled": true
   },
   "outputs": [
    {
     "data": {
      "text/html": [
       "<div>\n",
       "<style scoped>\n",
       "    .dataframe tbody tr th:only-of-type {\n",
       "        vertical-align: middle;\n",
       "    }\n",
       "\n",
       "    .dataframe tbody tr th {\n",
       "        vertical-align: top;\n",
       "    }\n",
       "\n",
       "    .dataframe thead th {\n",
       "        text-align: right;\n",
       "    }\n",
       "</style>\n",
       "<table border=\"1\" class=\"dataframe\">\n",
       "  <thead>\n",
       "    <tr style=\"text-align: right;\">\n",
       "      <th></th>\n",
       "      <th>title</th>\n",
       "      <th>domestic_gross</th>\n",
       "      <th>foreign_gross</th>\n",
       "      <th>genre_ids</th>\n",
       "      <th>original_language</th>\n",
       "      <th>popularity</th>\n",
       "      <th>release_date</th>\n",
       "      <th>vote_average</th>\n",
       "      <th>release_year</th>\n",
       "    </tr>\n",
       "  </thead>\n",
       "  <tbody>\n",
       "    <tr>\n",
       "      <th>0</th>\n",
       "      <td>Toy Story 3</td>\n",
       "      <td>415000000.0</td>\n",
       "      <td>652000000</td>\n",
       "      <td>[16, 10751, 35]</td>\n",
       "      <td>[en]</td>\n",
       "      <td>24.445</td>\n",
       "      <td>2010-06-17</td>\n",
       "      <td>7.7</td>\n",
       "      <td>2010</td>\n",
       "    </tr>\n",
       "    <tr>\n",
       "      <th>3</th>\n",
       "      <td>Inception</td>\n",
       "      <td>292600000.0</td>\n",
       "      <td>535700000</td>\n",
       "      <td>[28, 878, 12]</td>\n",
       "      <td>[en]</td>\n",
       "      <td>27.920</td>\n",
       "      <td>2010-07-16</td>\n",
       "      <td>8.3</td>\n",
       "      <td>2010</td>\n",
       "    </tr>\n",
       "    <tr>\n",
       "      <th>4</th>\n",
       "      <td>Shrek Forever After</td>\n",
       "      <td>238700000.0</td>\n",
       "      <td>513900000</td>\n",
       "      <td>[35, 12, 14, 16, 10751]</td>\n",
       "      <td>[en]</td>\n",
       "      <td>15.041</td>\n",
       "      <td>2010-05-16</td>\n",
       "      <td>6.1</td>\n",
       "      <td>2010</td>\n",
       "    </tr>\n",
       "    <tr>\n",
       "      <th>5</th>\n",
       "      <td>The Twilight Saga: Eclipse</td>\n",
       "      <td>300500000.0</td>\n",
       "      <td>398000000</td>\n",
       "      <td>[12, 14, 18, 10749]</td>\n",
       "      <td>[en]</td>\n",
       "      <td>20.340</td>\n",
       "      <td>2010-06-23</td>\n",
       "      <td>6.0</td>\n",
       "      <td>2010</td>\n",
       "    </tr>\n",
       "    <tr>\n",
       "      <th>6</th>\n",
       "      <td>Iron Man 2</td>\n",
       "      <td>312400000.0</td>\n",
       "      <td>311500000</td>\n",
       "      <td>[12, 28, 878]</td>\n",
       "      <td>[en]</td>\n",
       "      <td>28.515</td>\n",
       "      <td>2010-05-07</td>\n",
       "      <td>6.8</td>\n",
       "      <td>2010</td>\n",
       "    </tr>\n",
       "  </tbody>\n",
       "</table>\n",
       "</div>"
      ],
      "text/plain": [
       "                        title  domestic_gross foreign_gross  \\\n",
       "0                 Toy Story 3     415000000.0     652000000   \n",
       "3                   Inception     292600000.0     535700000   \n",
       "4         Shrek Forever After     238700000.0     513900000   \n",
       "5  The Twilight Saga: Eclipse     300500000.0     398000000   \n",
       "6                  Iron Man 2     312400000.0     311500000   \n",
       "\n",
       "                 genre_ids original_language  popularity release_date  \\\n",
       "0          [16, 10751, 35]              [en]      24.445   2010-06-17   \n",
       "3            [28, 878, 12]              [en]      27.920   2010-07-16   \n",
       "4  [35, 12, 14, 16, 10751]              [en]      15.041   2010-05-16   \n",
       "5      [12, 14, 18, 10749]              [en]      20.340   2010-06-23   \n",
       "6            [12, 28, 878]              [en]      28.515   2010-05-07   \n",
       "\n",
       "   vote_average  release_year  \n",
       "0           7.7          2010  \n",
       "3           8.3          2010  \n",
       "4           6.1          2010  \n",
       "5           6.0          2010  \n",
       "6           6.8          2010  "
      ]
     },
     "execution_count": 34,
     "metadata": {},
     "output_type": "execute_result"
    }
   ],
   "source": [
    "#Removing spaces and commas \n",
    "bom_movies['genre_ids']=bom_movies['genre_ids'].str.strip('[]').str.replace(\" \",'')\n",
    "bom_movies['genre_ids']=bom_movies['genre_ids'].str.split(',')\n",
    "\n",
    "bom_movies.head()"
   ]
  },
  {
   "cell_type": "markdown",
   "id": "c2ba4aa4",
   "metadata": {},
   "source": [
    "Replacing genre ids with genre name. \n",
    "Information about which name for each ids number I found [here](https://developers.themoviedb.org/3/genres/get-movie-list). "
   ]
  },
  {
   "cell_type": "code",
   "execution_count": 35,
   "id": "80773ba7",
   "metadata": {},
   "outputs": [],
   "source": [
    "#Replacing #ids with genre name \n",
    "genre = {\n",
    "    'Action': '28',\n",
    "    'Adventure': '12',\n",
    "    'Animation': '16',\n",
    "    'Comedy': '35',\n",
    "    'Crime': '80',\n",
    "    'Documentary': '99',\n",
    "    'Drama': '18',\n",
    "    'Family': '10751',\n",
    "    'Fantasy': '14',\n",
    "    'History': '36',\n",
    "    'Horror': '27',\n",
    "    'Music': '10402',\n",
    "    'Mystery': '9648',\n",
    "    'Romance': '10749',\n",
    "    'ScienceFiction': '878',\n",
    "    'TVMovie': '10770',\n",
    "    'Thriller': '53',\n",
    "    'War': '10752',\n",
    "    'Western': '37'\n",
    "}"
   ]
  },
  {
   "cell_type": "code",
   "execution_count": 36,
   "id": "9b4e114f",
   "metadata": {},
   "outputs": [],
   "source": [
    "#bom_movie_2= bom_movies[['title','genre_ids']]"
   ]
  },
  {
   "cell_type": "code",
   "execution_count": 37,
   "id": "9ffbf2df",
   "metadata": {},
   "outputs": [],
   "source": [
    "my_genres_df = pd.DataFrame.from_dict(genre, orient='index', columns=['id'])\n",
    "my_genres_df.index.name = 'genre'\n"
   ]
  },
  {
   "cell_type": "markdown",
   "id": "6ff32078",
   "metadata": {},
   "source": [
    "I used for loops to replace genre ids with genre names to be able to make a plot."
   ]
  },
  {
   "cell_type": "code",
   "execution_count": 38,
   "id": "5a4a16a5",
   "metadata": {},
   "outputs": [
    {
     "name": "stdout",
     "output_type": "stream",
     "text": [
      "                   id  count\n",
      "genre                       \n",
      "Action             28    346\n",
      "Adventure          12    257\n",
      "Animation          16    102\n",
      "Comedy             35    481\n",
      "Crime              80    173\n",
      "Documentary        99     62\n",
      "Drama              18    649\n",
      "Family          10751    157\n",
      "Fantasy            14    144\n",
      "History            36     62\n",
      "Horror             27    140\n",
      "Music           10402     46\n",
      "Mystery          9648    107\n",
      "Romance         10749    196\n",
      "ScienceFiction    878    162\n",
      "TVMovie         10770      2\n",
      "Thriller           53    353\n",
      "War             10752     31\n",
      "Western            37     17\n"
     ]
    }
   ],
   "source": [
    "#using for loops for replacement Ids with genre name\n",
    "my_genres_df['count'] = 0\n",
    "for index, row in bom_movies.iterrows():\n",
    "    genre_ids = row['genre_ids']\n",
    "    for genre_id in genre_ids:\n",
    "        try:\n",
    "            genre_name = list(genre.keys())[list(genre.values()).index(str(genre_id))]\n",
    "            my_genres_df.loc[genre_name, 'count'] = my_genres_df.loc[genre_name, 'count'] + 1\n",
    "        except ValueError:\n",
    "            continue\n",
    "\n",
    "print(my_genres_df)"
   ]
  },
  {
   "cell_type": "code",
   "execution_count": 39,
   "id": "33461cf0",
   "metadata": {},
   "outputs": [],
   "source": [
    "my_genres_df = my_genres_df.sort_values(by='count', ascending=False)"
   ]
  },
  {
   "cell_type": "markdown",
   "id": "4bda607f",
   "metadata": {},
   "source": [
    "I made a plot to show the number of movies in each genre to see what kind of movie released the most to make a recommendation for my client of what should be the genre of the movie to make it successful. "
   ]
  },
  {
   "cell_type": "code",
   "execution_count": 40,
   "id": "fb149884",
   "metadata": {
    "scrolled": true
   },
   "outputs": [
    {
     "data": {
      "image/png": "[encoded data removed]",
      "text/plain": [
       "<Figure size 1000x600 with 1 Axes>"
      ]
     },
     "metadata": {},
     "output_type": "display_data"
    }
   ],
   "source": [
    "#plotting number of movies in each genre\n",
    "import matplotlib.pyplot as plt\n",
    "import seaborn as sns\n",
    "\n",
    "sns.set_style('whitegrid')\n",
    "fig, ax = plt.subplots(figsize=(10, 6))\n",
    "\n",
    "sns.barplot(data=my_genres_df, x='id', y='count', color='royalblue')\n",
    "\n",
    "# Set plot title and labels\n",
    "ax.set_title('Number of Movies by Genre', fontsize=18, pad=15)\n",
    "ax.set_xlabel('Genre', fontsize=14)\n",
    "ax.set_ylabel('Number of Movies', fontsize=14)\n",
    "\n",
    "# Set ticks and tick labels\n",
    "ax.set_xticklabels(list(genre.keys()), rotation=45, ha='right', fontsize=12)\n",
    "ax.set_yticks(range(0, 6))\n",
    "ax.set_yticklabels(range(0, 6), fontsize=12)\n",
    "\n",
    "# Remove spines\n",
    "sns.despine(left=True)\n",
    "\n",
    "# Add annotations\n",
    "for i, val in enumerate(my_genres_df['count']):\n",
    "    ax.text(i, val + 0.2, str(val), ha='center', fontsize=12)\n",
    "\n",
    "plt.show()\n"
   ]
  },
  {
   "cell_type": "markdown",
   "id": "512abfb9",
   "metadata": {},
   "source": [
    "Here I have a visualization of what kind of genres are released the most and those are genres people are interested in and would work the best for my client to produce. I could see that for  the company it would be best to produce Action, Adventure, some comedy or animation to make it successful. "
   ]
  },
  {
   "cell_type": "markdown",
   "id": "52b192a5",
   "metadata": {},
   "source": [
    "# Conclusions"
   ]
  },
  {
   "cell_type": "markdown",
   "id": "43d858ca",
   "metadata": {},
   "source": [
    "After doing this data analysis I came out with some very interesting facts about movies. I found out what the average budget, duration,language,genre should be. What are the top 5 popular movies, what made them successful. I analyze the  top 3 most profitable movies and year in this dataset. All this information helped me to make recommendations to my client what criteria should Microsoft follow to make a successful movie.\n",
    "  If follow all the recommendations, the average worldwide gross should be  around 91 million dollars and domestic profit around 41 million dollars.\n"
   ]
  },
  {
   "cell_type": "markdown",
   "id": "2fc300f7",
   "metadata": {},
   "source": [
    "# Limitations"
   ]
  },
  {
   "cell_type": "markdown",
   "id": "ac3681f7",
   "metadata": {},
   "source": [
    "I wish I had some more information about actors so I could decide who should be in the movie. Because as we know actors are a very important criteria of the movie."
   ]
  },
  {
   "cell_type": "markdown",
   "id": "18006ef3",
   "metadata": {},
   "source": [
    "# Recommendations"
   ]
  },
  {
   "cell_type": "markdown",
   "id": "1d46da43",
   "metadata": {},
   "source": [
    "To make a successful movie the average budget must be around  31 million dollars.\n",
    "Average duration of the movie must be around 104 minutes\n",
    "The language has to be English\n",
    "Genre must be : Action, Adventure, Comedy ,Drama,Family,Fiction or Triller."
   ]
  },
  {
   "cell_type": "markdown",
   "id": "c09fbe2c",
   "metadata": {},
   "source": [
    "# Next Steps"
   ]
  },
  {
   "cell_type": "markdown",
   "id": "78aefc1f",
   "metadata": {},
   "source": [
    "My next step in the development of this topic would be finding more information about directors and writers."
   ]
  }
 ],
 "metadata": {
  "kernelspec": {
   "display_name": "Python (learn-env)",
   "language": "python",
   "name": "learn-env"
  },
  "language_info": {
   "codemirror_mode": {
    "name": "ipython",
    "version": 3
   },
   "file_extension": ".py",
   "mimetype": "text/x-python",
   "name": "python",
   "nbconvert_exporter": "python",
   "pygments_lexer": "ipython3",
   "version": "3.9.13"
  }
 },
 "nbformat": 4,
 "nbformat_minor": 5
}
